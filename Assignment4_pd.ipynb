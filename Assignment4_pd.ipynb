{
 "cells": [
  {
   "cell_type": "code",
   "execution_count": 1,
   "id": "abd2b6a3-5d1a-4053-b007-f216abba238b",
   "metadata": {},
   "outputs": [
    {
     "name": "stdout",
     "output_type": "stream",
     "text": [
      "0    1\n",
      "1    2\n",
      "2    3\n",
      "3    4\n",
      "4    5\n",
      "dtype: int64\n"
     ]
    }
   ],
   "source": [
    "#1. Create a Series using a Python list.\n",
    "import pandas as pd\n",
    "data = [1, 2, 3, 4, 5]\n",
    "s = pd.Series(data)\n",
    "print(s)"
   ]
  },
  {
   "cell_type": "code",
   "execution_count": 3,
   "id": "70e83020-502d-47a3-bd74-742bf9af2edf",
   "metadata": {},
   "outputs": [
    {
     "name": "stdout",
     "output_type": "stream",
     "text": [
      "a    1\n",
      "b    2\n",
      "c    3\n",
      "d    4\n",
      "e    5\n",
      "dtype: int64\n"
     ]
    }
   ],
   "source": [
    "#2. Create a Series with custom string indices.\n",
    "data1 = [1, 2, 3, 4, 5]\n",
    "index = ['a', 'b', 'c', 'd', 'e']\n",
    "s1 = pd.Series(data1, index=index)\n",
    "print(s1)"
   ]
  },
  {
   "cell_type": "code",
   "execution_count": 5,
   "id": "60364a9f-22b5-4bd3-8c1c-f7ca4ac36c0f",
   "metadata": {},
   "outputs": [
    {
     "name": "stdout",
     "output_type": "stream",
     "text": [
      "a    10\n",
      "b    12\n",
      "c    33\n",
      "d    74\n",
      "e    95\n",
      "dtype: int64\n"
     ]
    }
   ],
   "source": [
    "#3. Create a Series from a dictionary.\n",
    "d = {'a': 10, 'b': 12, 'c': 33, 'd': 74, 'e': 95}\n",
    "s = pd.Series(d)\n",
    "print(s)"
   ]
  },
  {
   "cell_type": "code",
   "execution_count": 7,
   "id": "855d5950-0721-49b3-9aa1-11d184d295e3",
   "metadata": {},
   "outputs": [
    {
     "name": "stdout",
     "output_type": "stream",
     "text": [
      "0    1\n",
      "1    2\n",
      "2    3\n",
      "dtype: int64\n"
     ]
    }
   ],
   "source": [
    "#4. Access first 3 elements of a Series.\n",
    "data = [1, 2, 3, 4, 5]\n",
    "s = pd.Series(data)\n",
    "print(s.head(3))"
   ]
  },
  {
   "cell_type": "code",
   "execution_count": 9,
   "id": "3566c561-5238-4484-b782-1fd9bed53db5",
   "metadata": {},
   "outputs": [
    {
     "name": "stdout",
     "output_type": "stream",
     "text": [
      "5    60\n",
      "6    70\n",
      "dtype: int64\n"
     ]
    }
   ],
   "source": [
    "#5. Filter Series elements greater than 50.\n",
    "data = [10, 20, 30, 40, 50, 60, 70]\n",
    "s = pd.Series(data)\n",
    "print(s[s > 50])"
   ]
  },
  {
   "cell_type": "code",
   "execution_count": 11,
   "id": "aa173826-c94d-4764-b7aa-32a95e6a15c8",
   "metadata": {},
   "outputs": [
    {
     "name": "stdout",
     "output_type": "stream",
     "text": [
      "a    1.0\n",
      "b    6.0\n",
      "c    8.0\n",
      "d    6.0\n",
      "dtype: float64\n"
     ]
    }
   ],
   "source": [
    "#6. Add two Series with different indices.\n",
    "s1 = pd.Series([1, 2, 3], index=['a', 'b', 'c'])\n",
    "s2 = pd.Series([4, 5, 6], index=['b', 'c', 'd'])\n",
    "print(s1.add(s2, fill_value=0))"
   ]
  },
  {
   "cell_type": "code",
   "execution_count": 13,
   "id": "359b2007-6709-46d1-b771-d9f1820c4e81",
   "metadata": {},
   "outputs": [
    {
     "name": "stdout",
     "output_type": "stream",
     "text": [
      "0     2\n",
      "1     4\n",
      "2     6\n",
      "3     8\n",
      "4    10\n",
      "dtype: int64\n"
     ]
    }
   ],
   "source": [
    "#7. Multiply a Series by a scalar.\n",
    "data = [1, 2, 3, 4, 5]\n",
    "s = pd.Series(data)\n",
    "print(s * 2)"
   ]
  },
  {
   "cell_type": "code",
   "execution_count": 15,
   "id": "ab89a6c5-058e-43fe-9a86-da37aa8b2d4a",
   "metadata": {},
   "outputs": [
    {
     "name": "stdout",
     "output_type": "stream",
     "text": [
      "0     2\n",
      "1     4\n",
      "2     6\n",
      "3     8\n",
      "4    10\n",
      "dtype: int64\n"
     ]
    }
   ],
   "source": [
    "#8. Use .multiply() method to multiply with scalar.\n",
    "data = [1, 2, 3, 4, 5]\n",
    "s = pd.Series(data)\n",
    "print(s.multiply(2))"
   ]
  },
  {
   "cell_type": "code",
   "execution_count": 17,
   "id": "82e3a82c-cb3a-40db-a334-007579f064af",
   "metadata": {},
   "outputs": [
    {
     "name": "stdout",
     "output_type": "stream",
     "text": [
      "4    9\n",
      "2    8\n",
      "0    5\n",
      "1    2\n",
      "3    1\n",
      "dtype: int64\n"
     ]
    }
   ],
   "source": [
    "#9. Sort Series by values descending.\n",
    "data = [5, 2, 8, 1, 9]\n",
    "s = pd.Series(data)\n",
    "print(s.sort_values(ascending=False))"
   ]
  },
  {
   "cell_type": "code",
   "execution_count": 19,
   "id": "7c6da127-4a0a-4b06-84de-594c194bf09f",
   "metadata": {},
   "outputs": [
    {
     "name": "stdout",
     "output_type": "stream",
     "text": [
      "a    1\n",
      "b    2\n",
      "c    8\n",
      "d    9\n",
      "e    5\n",
      "dtype: int64\n"
     ]
    }
   ],
   "source": [
    "#10. Sort Series by index.\n",
    "data = [5, 2, 8, 1, 9]\n",
    "index = ['e', 'b', 'c', 'a', 'd']\n",
    "s = pd.Series(data, index=index)\n",
    "print(s.sort_index())"
   ]
  },
  {
   "cell_type": "code",
   "execution_count": 21,
   "id": "5c61389d-cbb8-4c1a-ac13-26e369ac72d1",
   "metadata": {},
   "outputs": [
    {
     "name": "stdout",
     "output_type": "stream",
     "text": [
      "0    False\n",
      "1    False\n",
      "2     True\n",
      "3    False\n",
      "4    False\n",
      "dtype: bool\n"
     ]
    }
   ],
   "source": [
    "#11. Check for null values.\n",
    "import numpy as np\n",
    "data = [1, 2, np.nan, 4, 5]\n",
    "s = pd.Series(data)\n",
    "print(s.isnull())"
   ]
  },
  {
   "cell_type": "code",
   "execution_count": 23,
   "id": "beff0dd1-daf2-49fb-83b9-90b973eb8854",
   "metadata": {},
   "outputs": [
    {
     "name": "stdout",
     "output_type": "stream",
     "text": [
      "0    1\n",
      "1    2\n",
      "2    3\n",
      "0    4\n",
      "1    5\n",
      "2    6\n",
      "dtype: int64\n"
     ]
    }
   ],
   "source": [
    "#12. Concatenate two Series using concat().\n",
    "s1 = pd.Series([1, 2, 3])\n",
    "s2 = pd.Series([4, 5, 6])\n",
    "print(pd.concat([s1, s2]))"
   ]
  },
  {
   "cell_type": "code",
   "execution_count": 27,
   "id": "a5ff2e16-519d-4b1a-b0f9-3ab0300abfa1",
   "metadata": {},
   "outputs": [
    {
     "name": "stdout",
     "output_type": "stream",
     "text": [
      "0    1\n",
      "1    2\n",
      "2    3\n",
      "3    4\n",
      "4    5\n",
      "5    6\n",
      "dtype: int64\n"
     ]
    }
   ],
   "source": [
    "#13. Concatenate two Series using append().\n",
    "s1 = pd.Series([1, 2, 3])\n",
    "s2 = pd.Series([4, 5, 6])\n",
    "print(pd.concat([s1,s2], ignore_index=True))"
   ]
  },
  {
   "cell_type": "code",
   "execution_count": 29,
   "id": "f7b1ad34-7142-4868-8d97-da57be36b3f5",
   "metadata": {},
   "outputs": [
    {
     "name": "stdout",
     "output_type": "stream",
     "text": [
      "0    1\n",
      "1    2\n",
      "2    3\n",
      "3    4\n",
      "4    5\n",
      "dtype: int64\n"
     ]
    }
   ],
   "source": [
    "#14. Retrieve first 5 elements using .head()\n",
    "data = [1, 2, 3, 4, 5, 6, 7, 8, 9]\n",
    "s = pd.Series(data)\n",
    "print(s.head(5))"
   ]
  },
  {
   "cell_type": "code",
   "execution_count": 31,
   "id": "f8e20c62-a052-481f-8650-b1babc684ddf",
   "metadata": {},
   "outputs": [
    {
     "name": "stdout",
     "output_type": "stream",
     "text": [
      "4    5\n",
      "5    6\n",
      "6    7\n",
      "7    8\n",
      "8    9\n",
      "dtype: int64\n"
     ]
    }
   ],
   "source": [
    "#15. Retrieve last 5 elements using .tail()\n",
    "data = [1, 2, 3, 4, 5, 6, 7, 8, 9]\n",
    "s = pd.Series(data)\n",
    "print(s.tail(5))"
   ]
  },
  {
   "cell_type": "code",
   "execution_count": 33,
   "id": "7e0d0374-b1d5-42f6-97a0-cd6063a11c68",
   "metadata": {},
   "outputs": [
    {
     "name": "stdout",
     "output_type": "stream",
     "text": [
      "   0\n",
      "0  1\n",
      "1  2\n",
      "2  3\n",
      "3  4\n",
      "4  5\n"
     ]
    }
   ],
   "source": [
    "#16. Convert Series to DataFrame.\n",
    "data = [1, 2, 3, 4, 5]\n",
    "s = pd.Series(data)\n",
    "df = s.to_frame()\n",
    "print(df)"
   ]
  },
  {
   "cell_type": "code",
   "execution_count": 35,
   "id": "a769b2e8-fa73-4a33-b5c1-a4fe608fc283",
   "metadata": {},
   "outputs": [
    {
     "name": "stdout",
     "output_type": "stream",
     "text": [
      "0    1.0\n",
      "1    2.0\n",
      "2    0.0\n",
      "3    4.0\n",
      "4    5.0\n",
      "dtype: float64\n"
     ]
    }
   ],
   "source": [
    "#17. Replace NaN with 0.\n",
    "data = [1, 2, np.nan, 4, 5]\n",
    "s = pd.Series(data)\n",
    "print(s.fillna(0))"
   ]
  },
  {
   "cell_type": "code",
   "execution_count": 37,
   "id": "eedf2ab7-b69a-4acf-8601-eab41b2925bb",
   "metadata": {},
   "outputs": [
    {
     "name": "stdout",
     "output_type": "stream",
     "text": [
      "0    1.0\n",
      "1    2.0\n",
      "3    4.0\n",
      "4    5.0\n",
      "dtype: float64\n"
     ]
    }
   ],
   "source": [
    "#18. Drop missing values.\n",
    "data = [1, 2, np.nan, 4, 5]\n",
    "s = pd.Series(data)\n",
    "print(s.dropna())"
   ]
  },
  {
   "cell_type": "code",
   "execution_count": 39,
   "id": "58459eac-77a9-4d20-be81-dd0feabc5b7a",
   "metadata": {},
   "outputs": [
    {
     "name": "stdout",
     "output_type": "stream",
     "text": [
      "int64\n"
     ]
    }
   ],
   "source": [
    "#19. Check Series data type.\n",
    "data = [1, 2, 3, 4, 5]\n",
    "s = pd.Series(data)\n",
    "print(s.dtype)"
   ]
  }
 ],
 "metadata": {
  "kernelspec": {
   "display_name": "Python 3 (ipykernel)",
   "language": "python",
   "name": "python3"
  },
  "language_info": {
   "codemirror_mode": {
    "name": "ipython",
    "version": 3
   },
   "file_extension": ".py",
   "mimetype": "text/x-python",
   "name": "python",
   "nbconvert_exporter": "python",
   "pygments_lexer": "ipython3",
   "version": "3.12.4"
  }
 },
 "nbformat": 4,
 "nbformat_minor": 5
}
