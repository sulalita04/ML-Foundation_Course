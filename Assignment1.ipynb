{
 "cells": [
  {
   "cell_type": "code",
   "execution_count": 1,
   "id": "67f04c2d-238c-48cc-9296-bb98e7d1a292",
   "metadata": {},
   "outputs": [
    {
     "name": "stdout",
     "output_type": "stream",
     "text": [
      "1\n",
      "2\n",
      "3\n",
      "4\n",
      "5\n",
      "6\n",
      "7\n",
      "8\n",
      "9\n",
      "10\n"
     ]
    }
   ],
   "source": [
    "#1. Print numbers from 1 to 10.\n",
    "for i in range(1,11):\n",
    "    print(i)"
   ]
  },
  {
   "cell_type": "code",
   "execution_count": 3,
   "id": "f2e6e9dc-fe3e-40e1-a34a-54be18be96d9",
   "metadata": {},
   "outputs": [
    {
     "name": "stdout",
     "output_type": "stream",
     "text": [
      "2\n",
      "4\n",
      "6\n",
      "8\n",
      "10\n",
      "12\n",
      "14\n",
      "16\n",
      "18\n",
      "20\n"
     ]
    }
   ],
   "source": [
    "#2. Print even numbers from 1 to 20.\n",
    "for i in range(1,21):\n",
    "    if i % 2 == 0:\n",
    "        print(i)"
   ]
  },
  {
   "cell_type": "code",
   "execution_count": 5,
   "id": "f352a3fe-16bd-44e7-8549-dfa0e94eafcc",
   "metadata": {},
   "outputs": [
    {
     "name": "stdin",
     "output_type": "stream",
     "text": [
      "Enter a Number: 7\n"
     ]
    },
    {
     "name": "stdout",
     "output_type": "stream",
     "text": [
      "7 is positive\n"
     ]
    }
   ],
   "source": [
    "#3. Check if a number is positive, negative or zero. \n",
    "a = int(input(\"Enter a Number:\"))\n",
    "if a < 0:\n",
    "    print(a,\"is negative\")\n",
    "else:\n",
    "    print(a,\"is positive\")"
   ]
  },
  {
   "cell_type": "code",
   "execution_count": 15,
   "id": "d93178f8-22ec-4a7b-8a14-02a5d76a0064",
   "metadata": {},
   "outputs": [
    {
     "name": "stdin",
     "output_type": "stream",
     "text": [
      "Enter 1st number: 3\n",
      "Enter 2nd number: 4\n"
     ]
    },
    {
     "name": "stdout",
     "output_type": "stream",
     "text": [
      "Sum of the numbers is: 7\n"
     ]
    }
   ],
   "source": [
    "#4. Add two numbers using operators.\n",
    "a = int(input(\"Enter 1st number:\"))\n",
    "b = int(input(\"Enter 2nd number:\"))\n",
    "print(\"Sum of the numbers is:\",a+b)"
   ]
  },
  {
   "cell_type": "code",
   "execution_count": 37,
   "id": "6b5ea30e-f42e-4fb5-a2fd-ba1fbf07937b",
   "metadata": {},
   "outputs": [
    {
     "name": "stdin",
     "output_type": "stream",
     "text": [
      "Enter number: 3\n"
     ]
    },
    {
     "name": "stdout",
     "output_type": "stream",
     "text": [
      "Multiplication table of number 3 is:\n",
      "3 x 1  = 3\n",
      "3 x 2  = 6\n",
      "3 x 3  = 9\n",
      "3 x 4  = 12\n",
      "3 x 5  = 15\n",
      "3 x 6  = 18\n",
      "3 x 7  = 21\n",
      "3 x 8  = 24\n",
      "3 x 9  = 27\n",
      "3 x 10  = 30\n"
     ]
    }
   ],
   "source": [
    "#5. Print multiplication table of a number. \n",
    "a = int(input(\"Enter number:\"))\n",
    "print(\"Multiplication table of number\",a,\"is:\")\n",
    "for i in range(1,11):\n",
    "    b = a * i\n",
    "    print( a, \"x\", i ,\" =\" , b)"
   ]
  },
  {
   "cell_type": "code",
   "execution_count": 41,
   "id": "49dea4f9-ea92-412c-bca9-56f3262562d9",
   "metadata": {},
   "outputs": [
    {
     "name": "stdin",
     "output_type": "stream",
     "text": [
      "Enter 1st number: 09\n",
      "Enter 2nd number: 345\n"
     ]
    },
    {
     "name": "stdout",
     "output_type": "stream",
     "text": [
      "345 is largest number\n"
     ]
    }
   ],
   "source": [
    "#6. Find the largest among two numbers. \n",
    "a = int(input(\"Enter 1st number:\"))\n",
    "b = int(input(\"Enter 2nd number:\"))\n",
    "if a > b:\n",
    "    print(a,\"is largest number\")\n",
    "else:\n",
    "    print(b,\"is largest number\")"
   ]
  },
  {
   "cell_type": "code",
   "execution_count": 7,
   "id": "10f903a4-f982-456e-b315-0911ddf48c66",
   "metadata": {},
   "outputs": [
    {
     "name": "stdout",
     "output_type": "stream",
     "text": [
      "5\n",
      "4\n",
      "3\n",
      "2\n",
      "1\n"
     ]
    }
   ],
   "source": [
    "#7. Use a while loop to print numbers 5 to 1.\n",
    "i = 5\n",
    "while i>=1:\n",
    "    print(i)\n",
    "    i-=1"
   ]
  },
  {
   "cell_type": "code",
   "execution_count": 61,
   "id": "5c9cf642-4fe1-42c2-bc32-bcca14eee580",
   "metadata": {},
   "outputs": [
    {
     "name": "stdout",
     "output_type": "stream",
     "text": [
      "s\n",
      "u\n",
      "l\n",
      "a\n",
      "l\n",
      "i\n",
      "t\n",
      "a\n"
     ]
    }
   ],
   "source": [
    "#8. Print all characters in a string. \n",
    "s = \"sulalita\"\n",
    "for ch in s :\n",
    "    print(ch)"
   ]
  },
  {
   "cell_type": "code",
   "execution_count": 73,
   "id": "536a149f-30ee-41e9-a2cf-c456b825e2ad",
   "metadata": {},
   "outputs": [
    {
     "name": "stdin",
     "output_type": "stream",
     "text": [
      "Enter a number: 70\n"
     ]
    },
    {
     "name": "stdout",
     "output_type": "stream",
     "text": [
      "Not exist in between 10 and 50\n"
     ]
    }
   ],
   "source": [
    "#9. Use logical operator to check if a number is between 10 and 50. \n",
    "num = float(input(\"Enter a number:\"))\n",
    "if num > 10 and num < 50:\n",
    "    print(\"The Number is between 10 and 50 😊\")\n",
    "else:\n",
    "    print(\"Not exist in between 10 and 50 🙁\")"
   ]
  },
  {
   "cell_type": "code",
   "execution_count": 81,
   "id": "ff340512-e34e-4e16-915a-8f49363c5ec2",
   "metadata": {},
   "outputs": [
    {
     "name": "stdout",
     "output_type": "stream",
     "text": [
      "sum is 55\n"
     ]
    }
   ],
   "source": [
    "#10. Sum of first 10 natural numbers. \n",
    "sum = 0\n",
    "for i in range(1,11):\n",
    "    sum+=i\n",
    "    i+=1\n",
    "print(\"sum is\",sum)"
   ]
  },
  {
   "cell_type": "code",
   "execution_count": 1,
   "id": "caf9e087-3de9-4644-9c9c-64704ab4f258",
   "metadata": {},
   "outputs": [
    {
     "name": "stdout",
     "output_type": "stream",
     "text": [
      "1 is odd\n",
      "2 is even\n",
      "3 is odd\n",
      "4 is even\n",
      "5 is odd\n",
      "6 is even\n",
      "7 is odd\n",
      "8 is even\n",
      "9 is odd\n",
      "10 is even\n"
     ]
    }
   ],
   "source": [
    "#11. Print \"Odd\" or \"Even\" for numbers 1 to 10.\n",
    "for i in range(1,11):\n",
    "    if i % 2 == 0:\n",
    "        print(i,\"is even\")\n",
    "    else:\n",
    "        print(i,\"is odd\")"
   ]
  },
  {
   "cell_type": "code",
   "execution_count": 3,
   "id": "2c46c8b5-169c-4a73-af53-b81b9762ea29",
   "metadata": {},
   "outputs": [
    {
     "name": "stdout",
     "output_type": "stream",
     "text": [
      "1\n",
      "2\n",
      "3\n",
      "4\n"
     ]
    }
   ],
   "source": [
    "#12. Use “break” to stop loop when number is 5.\n",
    "for i in range(1,11):\n",
    "    if i == 5:\n",
    "        break\n",
    "    print(i)"
   ]
  },
  {
   "cell_type": "code",
   "execution_count": 5,
   "id": "877dd91e-12a8-426b-8f29-fda36df8b739",
   "metadata": {},
   "outputs": [
    {
     "name": "stdout",
     "output_type": "stream",
     "text": [
      "1\n",
      "2\n",
      "3\n",
      "4\n",
      "6\n",
      "7\n",
      "8\n",
      "9\n",
      "10\n"
     ]
    }
   ],
   "source": [
    "#13. Print 1 to 10 and use continue to skip printing 5. \n",
    "for i in range(1,11):\n",
    "    if i == 5:\n",
    "        continue\n",
    "    print(i)"
   ]
  },
  {
   "cell_type": "code",
   "execution_count": 7,
   "id": "07b1d180-1fe6-4773-9475-0d74c133b62f",
   "metadata": {},
   "outputs": [
    {
     "name": "stdout",
     "output_type": "stream",
     "text": [
      "1\n",
      "2\n",
      "3\n",
      "4\n",
      "5\n"
     ]
    }
   ],
   "source": [
    "#14. Print all elements in a list using a loop. \n",
    "list = [1,2,3,4,5]\n",
    "for i in list:\n",
    "    print(i)"
   ]
  },
  {
   "cell_type": "code",
   "execution_count": 11,
   "id": "b40d8e31-9120-437f-9eb0-d314113b5eca",
   "metadata": {},
   "outputs": [
    {
     "name": "stdin",
     "output_type": "stream",
     "text": [
      "Enter a number: 78\n"
     ]
    },
    {
     "name": "stdout",
     "output_type": "stream",
     "text": [
      "Not divisible by both 3 and 5\n"
     ]
    }
   ],
   "source": [
    "#15. Check if a number is divisible by both 3 and 5.\n",
    "num = int(input(\"Enter a number:\"))\n",
    "if num % 3 == 0 and num % 5 == 0:\n",
    "    print(\"The Number is divisible by both 3 and 5 \")\n",
    "else:\n",
    "    print(\"Not divisible by both 3 and 5\")"
   ]
  },
  {
   "cell_type": "code",
   "execution_count": 13,
   "id": "21c79116-bde9-4dcc-98d6-93f6729ea65e",
   "metadata": {},
   "outputs": [
    {
     "name": "stdout",
     "output_type": "stream",
     "text": [
      "square of 1 is: 1\n",
      "square of 2 is: 4\n",
      "square of 3 is: 9\n",
      "square of 4 is: 16\n",
      "square of 5 is: 25\n"
     ]
    }
   ],
   "source": [
    "#16. Square of all numbers from 1 to 5.\n",
    "for i in range(1,6):\n",
    "    sqr = i ** 2\n",
    "    print(\"square of\",i,\"is:\",sqr)"
   ]
  },
  {
   "cell_type": "code",
   "execution_count": 17,
   "id": "81f334d0-7641-4e3a-92ac-e1413d64ab2c",
   "metadata": {},
   "outputs": [
    {
     "name": "stdin",
     "output_type": "stream",
     "text": [
      "Enter a string: sullu\n"
     ]
    },
    {
     "name": "stdout",
     "output_type": "stream",
     "text": [
      "s:115\n",
      "u:117\n",
      "l:108\n",
      "l:108\n",
      "u:117\n"
     ]
    }
   ],
   "source": [
    "#17. Print ASCII values of characters in a string. \n",
    "s = input(\"Enter a string:\")\n",
    "for ch in s:\n",
    "    print(f\"{ch}:{ord(ch)}\")"
   ]
  },
  {
   "cell_type": "code",
   "execution_count": 19,
   "id": "d2456e9f-d4d1-4d8a-87ed-b5bd6aaf10e6",
   "metadata": {},
   "outputs": [
    {
     "name": "stdout",
     "output_type": "stream",
     "text": [
      "10\n",
      "9\n",
      "8\n",
      "7\n",
      "6\n",
      "5\n",
      "4\n",
      "3\n",
      "2\n",
      "1\n"
     ]
    }
   ],
   "source": [
    "#18. Count down from 10 to 1 using while.\n",
    "i = 10\n",
    "while i>=1:\n",
    "    print(i)\n",
    "    i-=1"
   ]
  },
  {
   "cell_type": "code",
   "execution_count": 25,
   "id": "7ac799d9-2f3f-4920-818f-3bd6a885b8d5",
   "metadata": {},
   "outputs": [
    {
     "name": "stdin",
     "output_type": "stream",
     "text": [
      "Enter a number: 7\n"
     ]
    },
    {
     "name": "stdout",
     "output_type": "stream",
     "text": [
      "Not divisible by  2 or 3\n"
     ]
    }
   ],
   "source": [
    "#19. Check if a number is divisible by 2 or 3.\n",
    "num = int(input(\"Enter a number:\"))\n",
    "if num % 2 == 0 or num % 3 == 0:\n",
    "    print(\"The Number is divisible by  2 or 3 \")\n",
    "else:\n",
    "    print(\"Not divisible by  2 or 3\")"
   ]
  },
  {
   "cell_type": "code",
   "execution_count": 37,
   "id": "3a821cf8-ebf8-4768-a3be-f943be4d70c2",
   "metadata": {},
   "outputs": [
    {
     "name": "stdin",
     "output_type": "stream",
     "text": [
      "Enter a number: 123321\n"
     ]
    },
    {
     "name": "stdout",
     "output_type": "stream",
     "text": [
      "Sum of digits is: 12\n"
     ]
    }
   ],
   "source": [
    "#20. Print sum of digits of a number.\n",
    "num = int(input(\"Enter a number:\"))\n",
    "sum = 0\n",
    "while num > 0:\n",
    "    sum += num % 10\n",
    "    num //= 10\n",
    "print(\"Sum of digits is:\",sum)\n",
    "    "
   ]
  },
  {
   "cell_type": "code",
   "execution_count": 7,
   "id": "62ea16fb-85e3-454e-834c-aa318b1465c3",
   "metadata": {},
   "outputs": [
    {
     "name": "stdin",
     "output_type": "stream",
     "text": [
      "Enter value of a: 5\n",
      "Enter value of b: 4\n"
     ]
    },
    {
     "name": "stdout",
     "output_type": "stream",
     "text": [
      "After swapping a value is: 4 \n",
      " After swapping b value is: 5\n"
     ]
    }
   ],
   "source": [
    "#21. Swap two numbers using a temporary variable. \n",
    "a = int(input(\"Enter value of a:\"))\n",
    "b = int(input(\"Enter value of b:\"))\n",
    "temp = a\n",
    "a = b\n",
    "b = temp\n",
    "print(\"After swapping a value is:\",a,\"\\n\",\"After swapping b value is:\",b)"
   ]
  },
  {
   "cell_type": "code",
   "execution_count": 9,
   "id": "5563ab19-b959-4ded-b9db-c8dd73f999ac",
   "metadata": {},
   "outputs": [
    {
     "name": "stdout",
     "output_type": "stream",
     "text": [
      "7\n",
      "14\n",
      "21\n",
      "28\n",
      "35\n",
      "42\n",
      "49\n",
      "56\n",
      "63\n",
      "70\n",
      "77\n",
      "84\n",
      "91\n",
      "98\n"
     ]
    }
   ],
   "source": [
    "#22. Print numbers from 1 to 100 that are divisible by 7.\n",
    "for i in range(1,101):\n",
    "    if i % 7 == 0:\n",
    "        print(i)"
   ]
  },
  {
   "cell_type": "code",
   "execution_count": 19,
   "id": "20bf4590-2da7-4b9f-831d-1f7b14d52866",
   "metadata": {},
   "outputs": [
    {
     "name": "stdin",
     "output_type": "stream",
     "text": [
      "Enter a number: 5\n"
     ]
    },
    {
     "name": "stdout",
     "output_type": "stream",
     "text": [
      "Factorial of 5 is: 120\n"
     ]
    }
   ],
   "source": [
    "#23. Find the factorial of a number.\n",
    "n = int(input(\"Enter a number:\"))\n",
    "fact = 1\n",
    "for i in range(1,n+1):\n",
    "    fact *= i\n",
    "print(\"Factorial of\",n,\"is:\",fact)"
   ]
  },
  {
   "cell_type": "code",
   "execution_count": 25,
   "id": "4831aed0-8905-43c2-9db8-cab6096e61cd",
   "metadata": {},
   "outputs": [
    {
     "name": "stdin",
     "output_type": "stream",
     "text": [
      "Enter a string: fhgfkjhghghghghghghgl\n"
     ]
    },
    {
     "name": "stdout",
     "output_type": "stream",
     "text": [
      "vowel count is: 0\n"
     ]
    }
   ],
   "source": [
    "#24. Count vowels in a string.\n",
    "s = input(\"Enter a string:\")\n",
    "v = \"aeiou\"\n",
    "count = 0\n",
    "for ch in s.lower():\n",
    "    if ch in v:\n",
    "        count +=1\n",
    "print(\"vowel count is:\",count)"
   ]
  },
  {
   "cell_type": "code",
   "execution_count": 37,
   "id": "67972abf-1c8a-49c4-a4e5-61d7d9be8977",
   "metadata": {},
   "outputs": [
    {
     "name": "stdin",
     "output_type": "stream",
     "text": [
      "Enter a number: 567\n"
     ]
    },
    {
     "name": "stdout",
     "output_type": "stream",
     "text": [
      "Reverse is: 765\n"
     ]
    }
   ],
   "source": [
    "#25. Reverse a number using loop.\n",
    "n = int(input(\"Enter a number:\"))\n",
    "rev = 0\n",
    "while n > 0:\n",
    "    rev = rev * 10 + n % 10\n",
    "    n//=10\n",
    "print(\"Reverse is:\",rev)"
   ]
  },
  {
   "cell_type": "code",
   "execution_count": 39,
   "id": "eeffec20-88f3-469b-8804-4279f0a0e964",
   "metadata": {},
   "outputs": [
    {
     "name": "stdout",
     "output_type": "stream",
     "text": [
      "123\n"
     ]
    }
   ],
   "source": [
    "#26. Find the maximum in a list using loop.   \n",
    "lst = [3,7,98,123,5]\n",
    "max_num = lst[0]\n",
    "for n in lst:\n",
    "    if n > max_num:\n",
    "        max_num = n\n",
    "print(max_num)"
   ]
  },
  {
   "cell_type": "code",
   "execution_count": 43,
   "id": "9bfad219-2f4f-48b5-a384-c55d5691c7ad",
   "metadata": {},
   "outputs": [
    {
     "name": "stdin",
     "output_type": "stream",
     "text": [
      "Enter a number 2\n"
     ]
    },
    {
     "name": "stdout",
     "output_type": "stream",
     "text": [
      "prime\n"
     ]
    }
   ],
   "source": [
    "#27. Prime number check using loop. \n",
    "n = int(input(\"Enter a number\"))\n",
    "is_prime = True\n",
    "if n < 2:\n",
    "    is_prime = False\n",
    "else:\n",
    "    for  i in range(2,int(n**0.5)+1):\n",
    "        if n % i == 0:\n",
    "            is_prime = False\n",
    "            break\n",
    "print(\"prime\"if is_prime else \"not prime\")"
   ]
  },
  {
   "cell_type": "code",
   "execution_count": 3,
   "id": "39099d32-a5ef-41da-a8e6-f198e65c35e4",
   "metadata": {},
   "outputs": [
    {
     "name": "stdout",
     "output_type": "stream",
     "text": [
      "Sum of even number is: 6\n"
     ]
    }
   ],
   "source": [
    "#28. Sum of even numbers in a list. \n",
    "lst = [1,2,3,4,5]\n",
    "s_even = 0\n",
    "for i in lst:\n",
    "    if i % 2 == 0:\n",
    "        s_even += i\n",
    "print(\"Sum of even number is:\",s_even)"
   ]
  },
  {
   "cell_type": "code",
   "execution_count": 49,
   "id": "e5ff7c35-dc09-4438-8303-e8dfe32b6cdb",
   "metadata": {},
   "outputs": [
    {
     "name": "stdout",
     "output_type": "stream",
     "text": [
      "1 \n",
      "1 2 \n",
      "1 2 3 \n",
      "1 2 3 4 \n",
      "1 2 3 4 5 \n"
     ]
    }
   ],
   "source": [
    "#29. Print number pattern using nested loops.\n",
    "for i in range(1,6):\n",
    "    for j in range(1,i+1):\n",
    "        print(j,end=\" \")\n",
    "    print()"
   ]
  },
  {
   "cell_type": "code",
   "execution_count": 13,
   "id": "1c727c73-98ef-4fe9-b0ff-1fd5bba15953",
   "metadata": {},
   "outputs": [
    {
     "name": "stdin",
     "output_type": "stream",
     "text": [
      "Enter a number: 456755\n"
     ]
    },
    {
     "name": "stdout",
     "output_type": "stream",
     "text": [
      "Digit 4 count 1\n",
      "Digit 5 count 3\n",
      "Digit 6 count 1\n",
      "Digit 7 count 1\n"
     ]
    }
   ],
   "source": [
    "#30. Count frequency of digits in a number.\n",
    "n = input(\"Enter a number:\")\n",
    "freq = {}\n",
    "for i in n:\n",
    "    if i in freq:\n",
    "        freq[i] += 1\n",
    "    else:\n",
    "        freq[i] = 1\n",
    "for i , count in freq.items():\n",
    "    print(\"Digit\",i,\"count\",count)"
   ]
  },
  {
   "cell_type": "code",
   "execution_count": 19,
   "id": "b23c672b-1f4d-486c-8779-57269b8970b4",
   "metadata": {},
   "outputs": [
    {
     "name": "stdin",
     "output_type": "stream",
     "text": [
      "Enter value of a: 4\n",
      "Enter value of b: 6\n"
     ]
    },
    {
     "name": "stdout",
     "output_type": "stream",
     "text": [
      "GCD of 4 and 6 is: 2\n"
     ]
    }
   ],
   "source": [
    "#31. GCD of two numbers using loop. \n",
    "a = int(input(\"Enter value of a:\"))\n",
    "b = int(input(\"Enter value of b:\"))\n",
    "print(\"GCD of\",a,\"and\",b,\"is:\",gcd)\n",
    "while b != 0:\n",
    "    temp = b\n",
    "    b = a % b\n",
    "    a = temp\n",
    "gcd = a"
   ]
  },
  {
   "cell_type": "code",
   "execution_count": 23,
   "id": "5d33cc5d-bbb6-4f5c-9610-b1a765ec5a5c",
   "metadata": {},
   "outputs": [
    {
     "name": "stdin",
     "output_type": "stream",
     "text": [
      "Enter value of a: 121\n"
     ]
    },
    {
     "name": "stdout",
     "output_type": "stream",
     "text": [
      "121 is palindrome\n"
     ]
    }
   ],
   "source": [
    "#32. Check if a number is a palindrome.\n",
    "a = input(\"Enter value of a:\")\n",
    "if a == a[::-1]:\n",
    "    print(a,\"is palindrome\")\n",
    "else:\n",
    "    print(a,\"is not a palindrome\")"
   ]
  },
  {
   "cell_type": "code",
   "execution_count": 31,
   "id": "60374796-4796-4e3c-be30-d1a84dcacd04",
   "metadata": {},
   "outputs": [
    {
     "name": "stdin",
     "output_type": "stream",
     "text": [
      "Enter a sentence: i am a student of utkal university\n"
     ]
    },
    {
     "name": "stdout",
     "output_type": "stream",
     "text": [
      "word count is: 7\n"
     ]
    }
   ],
   "source": [
    "#33. Count words in a sentence.\n",
    "s = input(\"Enter a sentence:\")\n",
    "print(\"word count is:\",len(s.split()))"
   ]
  },
  {
   "cell_type": "code",
   "execution_count": 33,
   "id": "980fa525-1648-4a0b-b407-39660a1c9d2a",
   "metadata": {},
   "outputs": [
    {
     "name": "stdout",
     "output_type": "stream",
     "text": [
      "common elements are: [1, 2, 5]\n"
     ]
    }
   ],
   "source": [
    "#34. Find common elements in two lists.\n",
    "lst1 = [1,2,3,4,5]\n",
    "lst2 = [1,2,5]\n",
    "com_ele = list(set(lst1) & set(lst2))\n",
    "print(\"common elements are:\",com_ele)"
   ]
  },
  {
   "cell_type": "code",
   "execution_count": 35,
   "id": "1a0d6b79-3ed0-4cc0-adfb-a6df228f782e",
   "metadata": {},
   "outputs": [
    {
     "name": "stdin",
     "output_type": "stream",
     "text": [
      "Enter student score: 70\n"
     ]
    },
    {
     "name": "stdout",
     "output_type": "stream",
     "text": [
      "Grade of Student score is: B\n"
     ]
    }
   ],
   "source": [
    "#35. Use elif to grade students based on score. \n",
    "score = int(input(\"Enter student score:\"))\n",
    "if score >= 90:\n",
    "    grd = \"O\"\n",
    "elif score >= 80:\n",
    "    grd = \"A\"\n",
    "elif score >= 70:\n",
    "    grd = \"B\"\n",
    "elif score >= 60:\n",
    "    grd = \"C\"\n",
    "elif score >= 50:\n",
    "    grd = \"D\"\n",
    "else:\n",
    "    grd = \"E\"\n",
    "print(\"Grade of Student score is:\",grd)"
   ]
  },
  {
   "cell_type": "code",
   "execution_count": 39,
   "id": "731defbc-ac44-49e6-93b2-99c44df21a88",
   "metadata": {},
   "outputs": [
    {
     "name": "stdout",
     "output_type": "stream",
     "text": [
      "* \n",
      "* * \n",
      "* * * \n",
      "* * * * \n",
      "* * * * * \n"
     ]
    }
   ],
   "source": [
    "#36. Print a right-angled triangle using *. \n",
    "for i in range(1,6):\n",
    "    for j in range(1,i+1):\n",
    "        print(\"*\",end=\" \")\n",
    "    print()"
   ]
  },
  {
   "cell_type": "code",
   "execution_count": 49,
   "id": "6ba2472b-ca99-4abd-8c3d-f507f0d65f2f",
   "metadata": {},
   "outputs": [
    {
     "name": "stdin",
     "output_type": "stream",
     "text": [
      "Enter a year: 1900\n"
     ]
    },
    {
     "name": "stdout",
     "output_type": "stream",
     "text": [
      "1900 is not a leap year\n"
     ]
    }
   ],
   "source": [
    "#37. Check if a year is a leap year.\n",
    "year = int(input(\"Enter a year:\"))\n",
    "if year % 4 == 0 and year % 100 != 0 or year % 400 == 0:\n",
    "    print(year,\"is a leap year\")\n",
    "else:\n",
    "    print(year,\"is not a leap year\")"
   ]
  },
  {
   "cell_type": "code",
   "execution_count": 51,
   "id": "73d82bce-edad-405a-ad49-9047e7b3ecb2",
   "metadata": {},
   "outputs": [
    {
     "name": "stdin",
     "output_type": "stream",
     "text": [
      "Enter a number: 5\n"
     ]
    },
    {
     "name": "stdout",
     "output_type": "stream",
     "text": [
      "0 1 1 2 3 "
     ]
    }
   ],
   "source": [
    "#38. Print Fibonacci series using loop. \n",
    "n = int(input(\"Enter a number:\"))\n",
    "a,b = 0,1\n",
    "for _ in range(n):\n",
    "    print(a,end=\" \")\n",
    "    a,b = b,a+b"
   ]
  },
  {
   "cell_type": "code",
   "execution_count": 55,
   "id": "9cab3f37-b42b-4c46-a77e-e39aacdaadae",
   "metadata": {},
   "outputs": [
    {
     "name": "stdin",
     "output_type": "stream",
     "text": [
      "Enter a string: My Name Is Sulalita\n"
     ]
    },
    {
     "name": "stdout",
     "output_type": "stream",
     "text": [
      "Uppercase letters count is: 4\n",
      "Lowercase letters count is: 12\n"
     ]
    }
   ],
   "source": [
    "#39. Count uppercase and lowercase letters in a string. \n",
    "s = input(\"Enter a string:\")\n",
    "up_count = 0\n",
    "lo_count = 0\n",
    "for ch in s:\n",
    "    if ch.isupper():\n",
    "        up_count += 1\n",
    "    elif ch.islower():\n",
    "        lo_count += 1\n",
    "print(\"Uppercase letters count is:\",up_count)\n",
    "print(\"Lowercase letters count is:\",lo_count)"
   ]
  },
  {
   "cell_type": "code",
   "execution_count": 57,
   "id": "eabc86bf-f215-449b-bddc-c34b5af99ca0",
   "metadata": {},
   "outputs": [
    {
     "name": "stdout",
     "output_type": "stream",
     "text": [
      "100\n",
      "99\n",
      "98\n",
      "97\n",
      "96\n",
      "95\n",
      "94\n",
      "93\n",
      "92\n",
      "91\n",
      "90\n",
      "89\n",
      "88\n",
      "87\n",
      "86\n",
      "85\n",
      "84\n",
      "83\n",
      "82\n",
      "81\n",
      "80\n",
      "79\n",
      "78\n",
      "77\n",
      "76\n",
      "75\n",
      "74\n",
      "73\n",
      "72\n",
      "71\n",
      "70\n",
      "69\n",
      "68\n",
      "67\n",
      "66\n",
      "65\n",
      "64\n",
      "63\n",
      "62\n",
      "61\n",
      "60\n",
      "59\n",
      "58\n",
      "57\n",
      "56\n",
      "55\n",
      "54\n",
      "53\n",
      "52\n",
      "51\n",
      "50\n",
      "49\n",
      "48\n",
      "47\n",
      "46\n",
      "45\n",
      "44\n",
      "43\n",
      "42\n",
      "41\n",
      "40\n",
      "39\n",
      "38\n",
      "37\n",
      "36\n",
      "35\n",
      "34\n",
      "33\n",
      "32\n",
      "31\n",
      "30\n",
      "29\n",
      "28\n",
      "27\n",
      "26\n",
      "25\n",
      "24\n",
      "23\n",
      "22\n",
      "21\n",
      "20\n",
      "19\n",
      "18\n",
      "17\n",
      "16\n",
      "15\n",
      "14\n",
      "13\n",
      "12\n",
      "11\n",
      "10\n",
      "9\n",
      "8\n",
      "7\n",
      "6\n",
      "5\n",
      "4\n",
      "3\n",
      "2\n",
      "1\n"
     ]
    }
   ],
   "source": [
    "#40. Print numbers from 100 to 1 using loop.\n",
    "for i in range(100,0,-1):\n",
    "    print(i)"
   ]
  }
 ],
 "metadata": {
  "kernelspec": {
   "display_name": "Python 3 (ipykernel)",
   "language": "python",
   "name": "python3"
  },
  "language_info": {
   "codemirror_mode": {
    "name": "ipython",
    "version": 3
   },
   "file_extension": ".py",
   "mimetype": "text/x-python",
   "name": "python",
   "nbconvert_exporter": "python",
   "pygments_lexer": "ipython3",
   "version": "3.12.4"
  }
 },
 "nbformat": 4,
 "nbformat_minor": 5
}
