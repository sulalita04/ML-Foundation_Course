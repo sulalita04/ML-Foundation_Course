{
 "cells": [
  {
   "cell_type": "code",
   "execution_count": 37,
   "id": "f747056b-2646-43ca-9bd4-aaa598d89e17",
   "metadata": {},
   "outputs": [
    {
     "name": "stdin",
     "output_type": "stream",
     "text": [
      "Enter a number: 5\n"
     ]
    },
    {
     "name": "stdout",
     "output_type": "stream",
     "text": [
      "is number prime: True\n"
     ]
    }
   ],
   "source": [
    "#1.write a function to check if a number is prime\n",
    "n = int(input(\"Enter a number:\"))\n",
    "def check_prime(n):\n",
    "    if n <= 1:\n",
    "        return False\n",
    "    for i in range(2,int(n**0.5)+1):\n",
    "        if n % i == 0:\n",
    "            return False\n",
    "    return True\n",
    "print(\"is number prime:\",check_prime(n))"
   ]
  },
  {
   "cell_type": "code",
   "execution_count": 15,
   "id": "ea7e9df9-91ef-437e-8c90-c0bf61d79284",
   "metadata": {},
   "outputs": [
    {
     "name": "stdin",
     "output_type": "stream",
     "text": [
      "Enter the length of rectangle(in c.m.): 3\n",
      "Enter the breath of rectangle(in c.m.): 4\n"
     ]
    },
    {
     "name": "stdout",
     "output_type": "stream",
     "text": [
      "area of rectangle is: 12.0 sq.c.m.\n"
     ]
    }
   ],
   "source": [
    "#2.create a functioon to calculate the area of a rectangle\n",
    "a = float(input(\"Enter the length of rectangle(in c.m.):\"))\n",
    "b = float(input(\"Enter the breath of rectangle(in c.m.):\"))\n",
    "def rec_area(a,b):\n",
    "    ar = a * b\n",
    "    return ar\n",
    "print(\"area of rectangle is:\",rec_area(a,b),\"sq.c.m.\")"
   ]
  },
  {
   "cell_type": "code",
   "execution_count": 21,
   "id": "dea2fe8c-d8dd-4e27-820e-d1a95d7aa2cb",
   "metadata": {},
   "outputs": [
    {
     "name": "stdin",
     "output_type": "stream",
     "text": [
      "Enter the value of a: 4\n",
      "Enter the value of b: 2\n",
      "Enter the value of c: 7\n"
     ]
    },
    {
     "name": "stdout",
     "output_type": "stream",
     "text": [
      "Maximum number is: 7.0\n"
     ]
    }
   ],
   "source": [
    "#3.create a functioon to find the  maximum of three numbers\n",
    "a = float(input(\"Enter the value of a:\"))\n",
    "b = float(input(\"Enter the value of b:\"))\n",
    "c = float(input(\"Enter the value of c:\"))\n",
    "def find_max(a,b,c):\n",
    "    return max(a,b,c)\n",
    "print(\"Maximum number is:\",find_max(a,b,c))   "
   ]
  },
  {
   "cell_type": "code",
   "execution_count": 29,
   "id": "97b215d8-d7d7-4cf4-bc59-a6d9c02003a9",
   "metadata": {},
   "outputs": [
    {
     "name": "stdin",
     "output_type": "stream",
     "text": [
      "Enter a String: sulu\n"
     ]
    },
    {
     "name": "stdout",
     "output_type": "stream",
     "text": [
      "reverse of String is: ulus\n"
     ]
    }
   ],
   "source": [
    "#4.write a function to reverse a string\n",
    "s = input(\"Enter a String:\")\n",
    "def r_str(s):\n",
    "    return s[::-1]\n",
    "print(\"reverse of String is:\",r_str(s))"
   ]
  },
  {
   "cell_type": "code",
   "execution_count": 49,
   "id": "ee292916-5dbc-47b1-99e3-d62c91925c6a",
   "metadata": {},
   "outputs": [
    {
     "name": "stdin",
     "output_type": "stream",
     "text": [
      "Enter a String: I E \n"
     ]
    },
    {
     "name": "stdout",
     "output_type": "stream",
     "text": [
      "Number of vowels: 2\n"
     ]
    }
   ],
   "source": [
    "#5.create a function to count the number of vowels in a string\n",
    "import re\n",
    "s = input(\"Enter a String:\")\n",
    "def count_vow(s):\n",
    "    return len(re.findall('[aeiou]',s,re.IGNORECASE))\n",
    "print(\"Number of vowels:\",count_vow(s))"
   ]
  },
  {
   "cell_type": "code",
   "execution_count": 57,
   "id": "a060d2af-8a87-4164-a736-68304430b5b5",
   "metadata": {},
   "outputs": [
    {
     "name": "stdin",
     "output_type": "stream",
     "text": [
      "Enter a String: ss\n"
     ]
    },
    {
     "name": "stdout",
     "output_type": "stream",
     "text": [
      "Is Palindrome: True\n"
     ]
    }
   ],
   "source": [
    "#6.Write a function t check if a string is a palindrome\n",
    "s = input(\"Enter a String:\")\n",
    "def check_palin(s):\n",
    "    if s == s[::-1]:\n",
    "        return True\n",
    "    else:\n",
    "        return False\n",
    "print(\"Is Palindrome:\",check_palin(s))   "
   ]
  },
  {
   "cell_type": "code",
   "execution_count": 59,
   "id": "8e6220fb-4ad8-4a20-9127-37533f4e4e61",
   "metadata": {},
   "outputs": [
    {
     "name": "stdout",
     "output_type": "stream",
     "text": [
      "23\n"
     ]
    }
   ],
   "source": [
    "#7.Create a function to calculate the sum of a list of numbers\n",
    "def sum_all(*args):\n",
    "    #print(args)\n",
    "    return sum(args)\n",
    "print(sum_all(1,2,3,8,9))"
   ]
  },
  {
   "cell_type": "code",
   "execution_count": 63,
   "id": "ede5824b-e40c-4827-8b7a-4c7ab246e119",
   "metadata": {},
   "outputs": [
    {
     "name": "stdin",
     "output_type": "stream",
     "text": [
      "Enter a number: 5\n"
     ]
    },
    {
     "name": "stdout",
     "output_type": "stream",
     "text": [
      "Fibonaci of number upto  5 th term is: [0, 1, 1, 2, 3]\n"
     ]
    }
   ],
   "source": [
    "#8.Write a function to return the fibonaci sequence up to n terms\n",
    "def fibo_seq(n):\n",
    "    fibo = [0,1]\n",
    "    for i in range(2,n):\n",
    "        fibo.append(fibo[i-1] + fibo[i-2])\n",
    "    return fibo[:n]\n",
    "n = int(input(\"Enter a number:\"))\n",
    "print(\"Fibonaci of number upto \",n,\"th term is:\",fibo_seq(n))        "
   ]
  },
  {
   "cell_type": "code",
   "execution_count": 5,
   "id": "9f4e3c71-00ce-4067-a0f9-b930cb736346",
   "metadata": {},
   "outputs": [
    {
     "name": "stdin",
     "output_type": "stream",
     "text": [
      "Enter temperature in Celsius:  25\n"
     ]
    },
    {
     "name": "stdout",
     "output_type": "stream",
     "text": [
      "25.0 degree celsius is equivalent to  77.0 degree fahrenheit\n"
     ]
    }
   ],
   "source": [
    "#9. Write a function to convert Celsius to Fahrenheit.\n",
    "def convertTemp(c):  \n",
    "   f = (c * 1.8) + 32\n",
    "   return f\n",
    "cel = float(input('Enter temperature in Celsius: '))\n",
    "fahr = convertTemp(cel)\n",
    "print(cel,\"degree celsius is equivalent to \",fahr,\"degree fahrenheit\")"
   ]
  },
  {
   "cell_type": "code",
   "execution_count": 9,
   "id": "30e6a856-56c1-49b0-9216-ab53bbb36c25",
   "metadata": {},
   "outputs": [
    {
     "name": "stdout",
     "output_type": "stream",
     "text": [
      "Minimum value: 4\n"
     ]
    }
   ],
   "source": [
    "#10. Write a function to find the minimum value in a list.\n",
    "n = [12,13,67,56,9,4]\n",
    "def find_val(n):\n",
    "    return min(n)\n",
    "min_value = find_val(n)\n",
    "print(\"Minimum value:\",min_value)"
   ]
  },
  {
   "cell_type": "code",
   "execution_count": 13,
   "id": "96d99a61-9735-4da9-8bd6-0dc06a18439b",
   "metadata": {},
   "outputs": [
    {
     "name": "stdout",
     "output_type": "stream",
     "text": [
      "The character s appers 1 times in String\n"
     ]
    }
   ],
   "source": [
    "#11. Create a function to count how many times a character appears in a string.\n",
    "def count_char(str,char):\n",
    "    count = 0\n",
    "    for ch in str:\n",
    "        if ch == char:\n",
    "            count += 1\n",
    "    return count\n",
    "str = \"Utkal University\"\n",
    "char = \"s\"\n",
    "count = count_char(str,char)\n",
    "print(\"The character\",char,\"appers\",count,\"times in String\")"
   ]
  },
  {
   "cell_type": "code",
   "execution_count": 1,
   "id": "75298798-39f6-493b-bbe2-eb58eaea5b74",
   "metadata": {},
   "outputs": [
    {
     "name": "stdout",
     "output_type": "stream",
     "text": [
      "28 is a perfect number.\n"
     ]
    }
   ],
   "source": [
    "#12. Write a function to check if a number is a perfect number.\n",
    "def is_perfect_number(n):\n",
    "    if n <= 1:\n",
    "        return False\n",
    "    \n",
    "    divisor_sum = 1  # 1 is always a divisor\n",
    "    for i in range(2, int(n ** 0.5) + 1):\n",
    "        if n % i == 0:\n",
    "            divisor_sum += i\n",
    "            if i != n // i:\n",
    "                divisor_sum += n // i\n",
    "    \n",
    "    return divisor_sum == n\n",
    "\n",
    "# Example usage\n",
    "num = 28\n",
    "if is_perfect_number(num):\n",
    "    print(f\"{num} is a perfect number.\")\n",
    "else:\n",
    "    print(f\"{num} is not a perfect number.\")\n"
   ]
  },
  {
   "cell_type": "code",
   "execution_count": 21,
   "id": "c639beff-57b9-4583-bca9-100761e1e1d2",
   "metadata": {},
   "outputs": [
    {
     "name": "stdin",
     "output_type": "stream",
     "text": [
      "Enter a number: 456\n"
     ]
    },
    {
     "name": "stdout",
     "output_type": "stream",
     "text": [
      "sum of digits: 15\n"
     ]
    }
   ],
   "source": [
    "#13. Create a function to find the sum of digits of a number.\n",
    "def sum_digits(n):\n",
    "    s_dg = 0\n",
    "    while n > 0:\n",
    "        s_dg += n % 10\n",
    "        n //= 10\n",
    "    return s_dg\n",
    "n = int(input(\"Enter a number:\"))\n",
    "print(\"sum of digits:\",sum_digits(n))"
   ]
  },
  {
   "cell_type": "code",
   "execution_count": 23,
   "id": "4f1ffcc4-acfb-422e-b7d9-0ad5efd808d6",
   "metadata": {},
   "outputs": [
    {
     "name": "stdin",
     "output_type": "stream",
     "text": [
      "Enter a string: sullu\n"
     ]
    },
    {
     "name": "stdout",
     "output_type": "stream",
     "text": [
      "{'s': 1, 'u': 2, 'l': 2}\n"
     ]
    }
   ],
   "source": [
    "#14. Write a function that takes a string and returns a dictionary of character frequencies.\n",
    "def char_freq(n):\n",
    "    freq = {}\n",
    "    for i in n:\n",
    "        if i in freq:\n",
    "            freq[i] += 1\n",
    "        else:\n",
    "            freq[i] = 1\n",
    "    return freq\n",
    "n = input(\"Enter a string:\")\n",
    "print(char_freq(n))"
   ]
  },
  {
   "cell_type": "code",
   "execution_count": 35,
   "id": "cfeec9e4-9279-4db0-a3bd-37a2c5f92efb",
   "metadata": {},
   "outputs": [
    {
     "name": "stdout",
     "output_type": "stream",
     "text": [
      "Average is: 3.0\n"
     ]
    }
   ],
   "source": [
    "#15. Write a function that returns the average of a list of numbers.\n",
    "def calc_avg(num):\n",
    "    if len(num) == 0:\n",
    "        return None\n",
    "    return sum(num) / len(num)\n",
    "num = [1,2,3,4,5]\n",
    "print(\"Average is:\",calc_avg(num))"
   ]
  },
  {
   "cell_type": "code",
   "execution_count": 27,
   "id": "13c12dad-1211-455b-a1eb-2c205573d7b7",
   "metadata": {},
   "outputs": [
    {
     "name": "stdin",
     "output_type": "stream",
     "text": [
      "Enter a number: 7\n"
     ]
    },
    {
     "name": "stdout",
     "output_type": "stream",
     "text": [
      "Multiplication table of  7\n",
      "7 X 1 = 7\n",
      "7 X 2 = 14\n",
      "7 X 3 = 21\n",
      "7 X 4 = 28\n",
      "7 X 5 = 35\n",
      "7 X 6 = 42\n",
      "7 X 7 = 49\n",
      "7 X 8 = 56\n",
      "7 X 9 = 63\n",
      "7 X 10 = 70\n"
     ]
    }
   ],
   "source": [
    "#16. Create a function that accepts a number and prints its multiplication table.\n",
    "def print_mul(n,limit = 10):\n",
    "    print(\"Multiplication table of \",n)\n",
    "    for i  in range(1, limit + 1):\n",
    "        print(n,\"X\",i,\"=\",n*i)\n",
    "num = int(input(\"Enter a number:\"))\n",
    "print_mul(num)"
   ]
  },
  {
   "cell_type": "code",
   "execution_count": 31,
   "id": "9ff2e2e3-992a-4bd6-8b42-4070cda3814d",
   "metadata": {},
   "outputs": [
    {
     "name": "stdout",
     "output_type": "stream",
     "text": [
      "[5, 4, 3, 2, 1]\n"
     ]
    }
   ],
   "source": [
    "#17. Write a function that accepts a list and returns the list in reverse order.\n",
    "def rev_list(lst):\n",
    "    return lst[::-1]\n",
    "nums = [1,2,3,4,5]\n",
    "print(rev_list(nums))"
   ]
  },
  {
   "cell_type": "code",
   "execution_count": 33,
   "id": "e463f448-0188-4a2d-9f08-5e42d991efeb",
   "metadata": {},
   "outputs": [
    {
     "name": "stdout",
     "output_type": "stream",
     "text": [
      "8\n"
     ]
    }
   ],
   "source": [
    "#18. Write a function to find the second largest number in a list.\n",
    "def sec_lar(num):\n",
    "    if len(num) < 2 :\n",
    "        return None\n",
    "    num = list(set(num))\n",
    "    num.sort()\n",
    "    if len(num) < 2:\n",
    "        return None\n",
    "    return num[-2]\n",
    "num = [4,3,8,9,7,1,8,3,0]\n",
    "print(sec_lar(num))"
   ]
  },
  {
   "cell_type": "code",
   "execution_count": 9,
   "id": "bfb2d916-0fdc-4e37-9c84-e94970e23c4d",
   "metadata": {},
   "outputs": [
    {
     "name": "stdout",
     "output_type": "stream",
     "text": [
      "The even numbers from list are: [2, 4, 6, 8]\n"
     ]
    }
   ],
   "source": [
    "#19. Create a function that accepts a list of integers and returns only the even ones.\n",
    "def even_num(n):\n",
    "    e_num = []\n",
    "    for i in n:\n",
    "        if i % 2 == 0:\n",
    "            e_num.append(i)\n",
    "    return e_num\n",
    "n = [1,2,3,4,6,8,9,7,3]\n",
    "print(\"The even numbers from list are:\",even_num(n))"
   ]
  },
  {
   "cell_type": "code",
   "execution_count": 19,
   "id": "ca28d7a2-78c6-49a2-a088-a56631b7c13c",
   "metadata": {},
   "outputs": [
    {
     "name": "stdin",
     "output_type": "stream",
     "text": [
      "Enter a String: utkal\n"
     ]
    },
    {
     "name": "stdout",
     "output_type": "stream",
     "text": [
      "Is all characters are unique: True\n"
     ]
    }
   ],
   "source": [
    "#20. Write a function to check if all characters in a string are unique.\n",
    "s = input(\"Enter a String:\") \n",
    "def str_unique(s):\n",
    "    ch_set = set()\n",
    "    for ch in s:\n",
    "        if ch in ch_set:\n",
    "            return False\n",
    "        ch_set.add(ch)\n",
    "    return True\n",
    "print(\"Is all characters are unique:\",str_unique(s))"
   ]
  },
  {
   "cell_type": "code",
   "execution_count": 25,
   "id": "faba593f-3641-4f3f-b68e-3142385794a6",
   "metadata": {},
   "outputs": [
    {
     "name": "stdin",
     "output_type": "stream",
     "text": [
      "Enter value of a: 76\n",
      "Enter value of b: 89\n"
     ]
    },
    {
     "name": "stdout",
     "output_type": "stream",
     "text": [
      "GCD is: 1\n"
     ]
    }
   ],
   "source": [
    "#21. Create a function to calculate the greatest common divisor (GCD) of two numbers.\n",
    "a = int(input(\"Enter value of a:\"))\n",
    "b = int(input(\"Enter value of b:\"))\n",
    "def find_gcd(a,b):\n",
    "    while b != 0:\n",
    "        a , b = b , a%b\n",
    "    return abs(a)\n",
    "print(\"GCD is:\",find_gcd(a,b))"
   ]
  },
  {
   "cell_type": "code",
   "execution_count": 27,
   "id": "1a711d70-68c1-4245-8025-cbefa8aaea3b",
   "metadata": {},
   "outputs": [
    {
     "name": "stdin",
     "output_type": "stream",
     "text": [
      "Enter value of a: 6\n",
      "Enter value of b: 3\n"
     ]
    },
    {
     "name": "stdout",
     "output_type": "stream",
     "text": [
      "LCM is: 6\n"
     ]
    }
   ],
   "source": [
    "#22. Write a function to find the least common multiple (LCM) of two numbers. \n",
    "a = int(input(\"Enter value of a:\"))\n",
    "b = int(input(\"Enter value of b:\"))\n",
    "def find_lcm(a,b):\n",
    "    def find_gcd(x,y):\n",
    "        while y != 0:\n",
    "            x , y = y , x % y\n",
    "        return abs(x)\n",
    "    return abs( a*b) // find_gcd(a,b)\n",
    "print(\"LCM is:\",find_lcm(a,b))"
   ]
  },
  {
   "cell_type": "code",
   "execution_count": 29,
   "id": "6c733851-25d2-4994-aa28-b1e331baa1de",
   "metadata": {},
   "outputs": [
    {
     "name": "stdout",
     "output_type": "stream",
     "text": [
      "After removing the duplicate items the list is: [1, 2, 67, 4, 5, 3, 8]\n"
     ]
    }
   ],
   "source": [
    "#23. Create a function to remove duplicates from a list. \n",
    "def rem_dupli(lst):\n",
    "    return list(set(lst))\n",
    "lst = [1,2,4,5,67,3,5,2,8,1,3,4,5]\n",
    "print(\"After removing the duplicate items the list is:\",rem_dupli(lst))"
   ]
  },
  {
   "cell_type": "code",
   "execution_count": 33,
   "id": "828cc6f8-6f48-4647-9900-d785a5f4f85c",
   "metadata": {},
   "outputs": [
    {
     "name": "stdin",
     "output_type": "stream",
     "text": [
      "Enter a number : 4\n"
     ]
    },
    {
     "name": "stdout",
     "output_type": "stream",
     "text": [
      "The factorial of  4 is: 24\n"
     ]
    }
   ],
   "source": [
    "#24. Write a recursive function to compute the factorial of a number. \n",
    "def fact(n):\n",
    "    if n == 0 :\n",
    "        return 1\n",
    "    else:\n",
    "        return n * fact(n - 1)\n",
    "n = int(input(\"Enter a number :\"))\n",
    "print(\"The factorial of \",n,\"is:\",fact(n))"
   ]
  },
  {
   "cell_type": "code",
   "execution_count": 47,
   "id": "8f3ab4c0-f0ac-46ee-8010-236b0070e4bf",
   "metadata": {},
   "outputs": [
    {
     "name": "stdin",
     "output_type": "stream",
     "text": [
      "Enter a number: 521\n"
     ]
    },
    {
     "name": "stdout",
     "output_type": "stream",
     "text": [
      "Is Armstrong: False\n"
     ]
    }
   ],
   "source": [
    "#25. Create a function that checks if a number is an Armstrong number. \n",
    "num = int(input(\"Enter a number:\"))\n",
    "def is_arms(num):\n",
    "    num_str = str(num)\n",
    "    num_len = len(num_str)\n",
    "    sum_digi = 0\n",
    "    for digi in num_str:\n",
    "        sum_digi += int(digi) **  num_len\n",
    "    return num == sum_digi\n",
    "print(\"Is Armstrong:\",is_arms(num))"
   ]
  },
  {
   "cell_type": "code",
   "execution_count": 57,
   "id": "5974c959-4bbd-4fd6-b2d2-d948ba78d1c7",
   "metadata": {},
   "outputs": [
    {
     "name": "stdin",
     "output_type": "stream",
     "text": [
      "Enter a number: 7\n"
     ]
    },
    {
     "name": "stdout",
     "output_type": "stream",
     "text": [
      "Prime numbers upto 7 are: [3, 5, 7]\n"
     ]
    }
   ],
   "source": [
    "#26. Write a function that returns all prime numbers up to n.\n",
    "n = int(input(\"Enter a number:\"))\n",
    "def get_pri(n):\n",
    "    primes = []\n",
    "    for num in range(2, n+1):\n",
    "        is_prime = True\n",
    "        for  i in range(2,int(n**0.5)+1):\n",
    "            if num % i == 0:\n",
    "                is_prime = False\n",
    "                break\n",
    "        if is_prime:\n",
    "            primes.append(num)\n",
    "    return primes\n",
    "print(\"Prime numbers upto\",n,\"are:\",get_pri(n))"
   ]
  },
  {
   "cell_type": "code",
   "execution_count": 63,
   "id": "ae1b4a19-01e3-4621-a3e1-f35bb5cda759",
   "metadata": {},
   "outputs": [
    {
     "name": "stdin",
     "output_type": "stream",
     "text": [
      "Enter a string: Utkal University Vani vihar bhubaneswar\n"
     ]
    },
    {
     "name": "stdout",
     "output_type": "stream",
     "text": [
      "longest word from the above string is: bhubaneswar\n"
     ]
    }
   ],
   "source": [
    "#27. Create a function that accepts a sentence and returns the longest word. \n",
    "s = input(\"Enter a string:\")\n",
    "def long_word(s):\n",
    "    word = s.split()\n",
    "    long = max(word,key = len)\n",
    "    return long\n",
    "print(\"longest word from the above string is:\",long_word(s))"
   ]
  },
  {
   "cell_type": "code",
   "execution_count": 65,
   "id": "eb4329ba-5057-4c2a-bc66-a0c5b661be29",
   "metadata": {},
   "outputs": [
    {
     "name": "stdin",
     "output_type": "stream",
     "text": [
      "Enter a number: 3\n",
      "Enter the power: 2\n"
     ]
    },
    {
     "name": "stdout",
     "output_type": "stream",
     "text": [
      "3 power 2 is: 9\n"
     ]
    }
   ],
   "source": [
    "#28. Write a function to compute the power of a number using recursion.\n",
    "n = int(input(\"Enter a number:\"))\n",
    "p = int(input(\"Enter the power:\"))\n",
    "def power(n):\n",
    "    if p == 0:\n",
    "        return 1\n",
    "    else:\n",
    "        return n ** p\n",
    "print(n,\"power\",p,\"is:\",power(n))"
   ]
  },
  {
   "cell_type": "code",
   "execution_count": 15,
   "id": "bdaa9f50-6d4a-4f90-8568-73d3db179456",
   "metadata": {},
   "outputs": [
    {
     "name": "stdout",
     "output_type": "stream",
     "text": [
      "Original list is: [1, 2, 3, [5, 7, 6, [8, 69, 56]], 34, 24, 65]\n",
      "Flat list is: [1, 2, 3, 5, 7, 6, 8, 69, 56, 34, 24, 65]\n"
     ]
    }
   ],
   "source": [
    "#29. Create a function that flattens a nested list.\n",
    "lst = [1,2,3,[5,7,6,[8,69,56]],34,24,65]\n",
    "flat_lst = []\n",
    "def flat_nest_lst(lst):\n",
    "    for i in lst:\n",
    "        if type(i) == list:\n",
    "            flat_nest_lst(i)\n",
    "        else:\n",
    "            flat_lst.append(i)\n",
    "print(\"Original list is:\",lst)\n",
    "flat_nest_lst(lst)\n",
    "print(\"Flat list is:\",flat_lst)"
   ]
  },
  {
   "cell_type": "code",
   "execution_count": 69,
   "id": "f1daf860-3c41-4ecb-9001-98f8fad4992b",
   "metadata": {},
   "outputs": [
    {
     "name": "stdout",
     "output_type": "stream",
     "text": [
      "is sorted: False\n"
     ]
    }
   ],
   "source": [
    "#30. Write a function to check if a list is sorted.\n",
    "def is_Sorted(lst):\n",
    "    return lst == sorted(lst) or lst == sorted(lst,reverse = True)\n",
    "lst = [1,2,3,6,5]\n",
    "print(\"is sorted:\",is_Sorted(lst))"
   ]
  },
  {
   "cell_type": "code",
   "execution_count": 71,
   "id": "390a07c4-3784-4d2d-bdf5-8aa7802c3eaa",
   "metadata": {},
   "outputs": [
    {
     "name": "stdout",
     "output_type": "stream",
     "text": [
      "Merged Sorted list is: [1, 2, 3, 3, 4, 5, 5, 6, 6, 8, 8, 9]\n"
     ]
    }
   ],
   "source": [
    "#31. Create a function to merge two sorted lists into one sorted list.\n",
    "def merge_Sort_list(lst1,lst2):\n",
    "    return sorted(lst1 + lst2)\n",
    "lst1 = [1,4,5,6,3,8]\n",
    "lst2 = [5,8,2,3,9,6]\n",
    "print(\"Merged Sorted list is:\",merge_Sort_list(lst1,lst2))"
   ]
  },
  {
   "cell_type": "code",
   "execution_count": 31,
   "id": "f800cd4d-b47e-49d7-afdd-f8a74e5055f7",
   "metadata": {},
   "outputs": [
    {
     "data": {
      "text/plain": [
       "8"
      ]
     },
     "execution_count": 31,
     "metadata": {},
     "output_type": "execute_result"
    }
   ],
   "source": [
    "#32. write a function to find most frequent element in a list\n",
    "def most_freq(lst):\n",
    "    return max(set(lst) , key = lst.count)\n",
    "list = [2, 3, 5, 7, 6, 8,8,8 ,69, 56, 34, 24, 65]\n",
    "most_freq(list)"
   ]
  },
  {
   "cell_type": "code",
   "execution_count": 43,
   "id": "bc61ea09-6e99-4fa1-b938-97a4fff22309",
   "metadata": {},
   "outputs": [
    {
     "name": "stdout",
     "output_type": "stream",
     "text": [
      "Original List is: [1, 4, 5, 6, 3, 8]\n",
      "After sorting the list is: [1, 3, 4, 5, 6, 8]\n",
      "Median of the list is: 4.5\n"
     ]
    }
   ],
   "source": [
    "#33. Create a function that returns the median of a list.\n",
    "def median(lst):\n",
    "    sort_lst = sorted(lst)\n",
    "    print(\"After sorting the list is:\",sort_lst)\n",
    "    n = len(sort_lst)\n",
    "    if n % 2 == 0:\n",
    "        return (sort_lst[n // 2 - 1] + sort_lst[n // 2]) / 2\n",
    "    else:\n",
    "        sort_lst[n // 2]\n",
    "lst1 = [1,4,5,6,3,8]\n",
    "print(\"Original List is:\",lst1)\n",
    "print(\"Median of the list is:\",median(lst1))\n"
   ]
  },
  {
   "cell_type": "code",
   "execution_count": 1,
   "id": "372b36d7-68f8-4db6-aecd-b93e75f83141",
   "metadata": {},
   "outputs": [
    {
     "name": "stdout",
     "output_type": "stream",
     "text": [
      "Intersection of the list is: [8, 3, 5, 6]\n"
     ]
    }
   ],
   "source": [
    "#34. Create a function that finds the intersection of two lists. \n",
    "def intersec(lst1,lst2):\n",
    "    inter_list =  list(set(lst1) & set(lst2))\n",
    "    return inter_list\n",
    "lst1 = [1, 4, 5, 6, 3, 8]\n",
    "lst2 = [5, 8, 2, 3, 9, 6]\n",
    "print(\"Intersection of the list is:\",intersec(lst1,lst2))"
   ]
  },
  {
   "cell_type": "code",
   "execution_count": 5,
   "id": "80fa0644-8642-41e3-8975-9768e6d8bc9d",
   "metadata": {},
   "outputs": [
    {
     "name": "stdout",
     "output_type": "stream",
     "text": [
      "Product of the numbers is: 16\n"
     ]
    }
   ],
   "source": [
    "#35. Write a function that accepts variable number of arguments and returns their product.\n",
    "def prd(*args):\n",
    "    res = 1\n",
    "    for n in args:\n",
    "        res += n\n",
    "    return res\n",
    "print(\"Product of the numbers is:\",prd(1,3,5,6))"
   ]
  },
  {
   "cell_type": "code",
   "execution_count": 11,
   "id": "6a50b6c6-74a1-48eb-ade9-f9fb335043b1",
   "metadata": {},
   "outputs": [
    {
     "name": "stdout",
     "output_type": "stream",
     "text": [
      "(index,element)---> [(0, 8), (1, 3), (2, 5), (3, 6)]\n"
     ]
    }
   ],
   "source": [
    "#36. Write a function that returns a list of tuples (element, index) from a list.\n",
    "def enumerate_lst(lst):\n",
    "    return list(enumerate(lst))\n",
    "lst = [8, 3, 5, 6]\n",
    "print(\"(index,element)--->\",enumerate_lst(lst))"
   ]
  },
  {
   "cell_type": "code",
   "execution_count": 21,
   "id": "742c9035-f4a3-42a5-a3fc-aa7afa5194ab",
   "metadata": {},
   "outputs": [
    {
     "name": "stdin",
     "output_type": "stream",
     "text": [
      "Enter a string: utksal utkal utkal utkaluniversity utkaluniversitybbsr u_t_k_a_l\n"
     ]
    },
    {
     "name": "stdout",
     "output_type": "stream",
     "text": [
      "Dictionary Word Counts are:\n",
      " {'utksal': 1, 'utkal': 2, 'utkaluniversity': 1, 'utkaluniversitybbsr': 1, 'u_t_k_a_l': 1}\n"
     ]
    }
   ],
   "source": [
    "#37. Create a function that accepts a string and returns a dictionary of word counts. \n",
    "def word_count(S):\n",
    "    word = S.split()\n",
    "    word_count_dict = {}\n",
    "    for wd in word:\n",
    "        wd = wd.lower()\n",
    "        if wd in word_count_dict:\n",
    "            word_count_dict[wd] += 1\n",
    "        else:\n",
    "            word_count_dict[wd] =1\n",
    "    return word_count_dict\n",
    "S = input(\"Enter a string:\")\n",
    "print(\"Dictionary Word Counts are:\\n\",word_count(S))"
   ]
  },
  {
   "cell_type": "code",
   "execution_count": 29,
   "id": "1e6dc655-5a14-4ecb-9251-e4321b0f7ca7",
   "metadata": {},
   "outputs": [
    {
     "name": "stdin",
     "output_type": "stream",
     "text": [
      "Enter a Sentence: a quick little brown fox jumps over the lazy dog\n"
     ]
    },
    {
     "name": "stdout",
     "output_type": "stream",
     "text": [
      "Is pangram: True\n"
     ]
    }
   ],
   "source": [
    "#38. Write a function that checks if a sentence is a pangram. \n",
    "import string as str\n",
    "def is_pangram(s):\n",
    "    return set(str.ascii_lowercase).issubset(set(s.lower()))\n",
    "S = input(\"Enter a Sentence:\")\n",
    "print(\"Is pangram:\",is_pangram(S))"
   ]
  },
  {
   "cell_type": "code",
   "execution_count": 31,
   "id": "9eb8c156-1540-4fc0-9141-8a70b8624726",
   "metadata": {},
   "outputs": [
    {
     "name": "stdin",
     "output_type": "stream",
     "text": [
      "Enter a value from the above list to see in what index that exist: 6\n"
     ]
    },
    {
     "name": "stdout",
     "output_type": "stream",
     "text": [
      "6 exist in  3 index\n"
     ]
    }
   ],
   "source": [
    "#39. Create a function that accepts a list and a value, and returns the index of the value (or -1). \n",
    "def find_index(lst,value):\n",
    "    for i , x in enumerate(lst):\n",
    "        if x == value:\n",
    "            return i\n",
    "    return -1\n",
    "lst = [1, 4, 5, 6, 3, 8]\n",
    "val = int(input(\"Enter a value from the above list to see in what index that exist:\"))\n",
    "print(val,\"exist in \",find_index(lst,val),\"index\")"
   ]
  },
  {
   "cell_type": "code",
   "execution_count": 35,
   "id": "ab0cf93c-34c5-4ea3-a4d1-1866409c21b7",
   "metadata": {},
   "outputs": [
    {
     "name": "stdin",
     "output_type": "stream",
     "text": [
      "Enter a string: Utkal University Vani Vihar Bhubaneswar\n"
     ]
    },
    {
     "name": "stdout",
     "output_type": "stream",
     "text": [
      "Uppercase count is: 5\n",
      "Lowercase count is: 30\n"
     ]
    }
   ],
   "source": [
    "#40. Write a function that counts the number of uppercase and lowercase characters in a string.\n",
    "def count_case(s):\n",
    "    up_case = 0\n",
    "    low_case = 0\n",
    "    for ch in s:\n",
    "        if ch.isupper():\n",
    "            up_case += 1\n",
    "        elif ch.islower():\n",
    "            low_case += 1\n",
    "    return up_case,low_case\n",
    "s = input(\"Enter a string:\")\n",
    "up_case ,low_case = count_case(s)\n",
    "print(\"Uppercase count is:\",up_case)\n",
    "print(\"Lowercase count is:\",low_case)"
   ]
  }
 ],
 "metadata": {
  "kernelspec": {
   "display_name": "Python 3 (ipykernel)",
   "language": "python",
   "name": "python3"
  },
  "language_info": {
   "codemirror_mode": {
    "name": "ipython",
    "version": 3
   },
   "file_extension": ".py",
   "mimetype": "text/x-python",
   "name": "python",
   "nbconvert_exporter": "python",
   "pygments_lexer": "ipython3",
   "version": "3.12.4"
  }
 },
 "nbformat": 4,
 "nbformat_minor": 5
}
