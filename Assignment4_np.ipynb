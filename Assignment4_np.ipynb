{
 "cells": [
  {
   "cell_type": "code",
   "execution_count": 9,
   "id": "a0bedacc-2880-4df7-a5c4-91bbe2ebfd89",
   "metadata": {},
   "outputs": [
    {
     "data": {
      "text/plain": [
       "array([1, 2, 3, 4, 5])"
      ]
     },
     "execution_count": 9,
     "metadata": {},
     "output_type": "execute_result"
    }
   ],
   "source": [
    "#1.Create a 1D array from a list.\n",
    "import numpy as np\n",
    "import pandas as pd\n",
    "arr = np.array([1,2,3,4,5])\n",
    "arr"
   ]
  },
  {
   "cell_type": "code",
   "execution_count": 5,
   "id": "efa7ff5d-0e4f-4b6d-969b-599e16ac110f",
   "metadata": {},
   "outputs": [
    {
     "data": {
      "text/plain": [
       "array([[0., 0., 0.],\n",
       "       [0., 0., 0.],\n",
       "       [0., 0., 0.]])"
      ]
     },
     "execution_count": 5,
     "metadata": {},
     "output_type": "execute_result"
    }
   ],
   "source": [
    "#2.Create a 3x3 array of zeros.\n",
    "arr_zero = np.zeros((3,3))\n",
    "arr_zero"
   ]
  },
  {
   "cell_type": "code",
   "execution_count": 7,
   "id": "2ecdd6c0-dff9-4c38-9595-45f1d2d07917",
   "metadata": {},
   "outputs": [
    {
     "data": {
      "text/plain": [
       "array([[1., 1.],\n",
       "       [1., 1.]])"
      ]
     },
     "execution_count": 7,
     "metadata": {},
     "output_type": "execute_result"
    }
   ],
   "source": [
    "#3. Create a 2x2 array of ones.\n",
    "arr_one = np.ones((2,2))\n",
    "arr_one"
   ]
  },
  {
   "cell_type": "code",
   "execution_count": 11,
   "id": "7122629c-e43d-4474-97b8-716c00677b73",
   "metadata": {},
   "outputs": [
    {
     "data": {
      "text/plain": [
       "array([0, 1, 2, 3, 4, 5, 6, 7, 8, 9])"
      ]
     },
     "execution_count": 11,
     "metadata": {},
     "output_type": "execute_result"
    }
   ],
   "source": [
    "#4. Generate array from 0 to 10 (exclusive).\n",
    "arr_ex = np.arange(0,10,1)\n",
    "arr_ex"
   ]
  },
  {
   "cell_type": "code",
   "execution_count": 13,
   "id": "f0230637-6a4d-4fcb-8a2d-96fd511cc8f0",
   "metadata": {},
   "outputs": [
    {
     "data": {
      "text/plain": [
       "array([0.  , 0.25, 0.5 , 0.75, 1.  ])"
      ]
     },
     "execution_count": 13,
     "metadata": {},
     "output_type": "execute_result"
    }
   ],
   "source": [
    "#5. Create 5 evenly spaced numbers between 0 and 1.\n",
    "arr_sp = np.linspace(0,1,5)\n",
    "arr_sp"
   ]
  },
  {
   "cell_type": "code",
   "execution_count": 9,
   "id": "d83fc863-9602-4237-a95f-3aa538a266a9",
   "metadata": {},
   "outputs": [
    {
     "name": "stdout",
     "output_type": "stream",
     "text": [
      "[[1. 0. 0. 0.]\n",
      " [0. 1. 0. 0.]\n",
      " [0. 0. 1. 0.]\n",
      " [0. 0. 0. 1.]]\n"
     ]
    }
   ],
   "source": [
    "#6. Create a 4x4 identity matrix.\n",
    "arr_id = np.eye(4) \n",
    "print(arr_id)"
   ]
  },
  {
   "cell_type": "code",
   "execution_count": 25,
   "id": "4dcd5c1c-2011-4b23-9788-5373a503442c",
   "metadata": {},
   "outputs": [
    {
     "data": {
      "text/plain": [
       "array([[1, 2, 3],\n",
       "       [4, 5, 6]])"
      ]
     },
     "execution_count": 25,
     "metadata": {},
     "output_type": "execute_result"
    }
   ],
   "source": [
    "#7. Reshape 1D array to 2D.\n",
    "data = np.array([1,2,3,4,5,6])\n",
    "data.reshape(2,3)"
   ]
  },
  {
   "cell_type": "code",
   "execution_count": 33,
   "id": "10422d8c-dc06-44bc-951f-67ca13a0e675",
   "metadata": {},
   "outputs": [
    {
     "name": "stdout",
     "output_type": "stream",
     "text": [
      "shape is: (1, 6)\n",
      "dtype is: int32\n"
     ]
    }
   ],
   "source": [
    "#8. Get the shape and dtype of an array.\n",
    "data1= np.array([[1,2,3,4,5,6]])\n",
    "print (\"shape is:\",data1.shape)\n",
    "print (\"dtype is:\",data1.dtype)"
   ]
  },
  {
   "cell_type": "code",
   "execution_count": 39,
   "id": "28bde611-458c-454f-a23a-2ae7ef57c385",
   "metadata": {},
   "outputs": [
    {
     "data": {
      "text/plain": [
       "array([6, 5, 4, 3, 2, 1])"
      ]
     },
     "execution_count": 39,
     "metadata": {},
     "output_type": "execute_result"
    }
   ],
   "source": [
    "#9. Reverse a NumPy array.\n",
    "data = np.array([1,2,3,4,5,6])\n",
    "rev_data = data [::-1]\n",
    "rev_data "
   ]
  },
  {
   "cell_type": "code",
   "execution_count": 41,
   "id": "b80fee66-41dd-468f-90e1-c8f7a1e38818",
   "metadata": {},
   "outputs": [
    {
     "data": {
      "text/plain": [
       "array([2, 4, 6])"
      ]
     },
     "execution_count": 41,
     "metadata": {},
     "output_type": "execute_result"
    }
   ],
   "source": [
    "#10. Extract even numbers from an array.\n",
    "data = np.array([1,2,3,4,5,6])\n",
    "even_data = data [data % 2 ==0]\n",
    "even_data "
   ]
  },
  {
   "cell_type": "code",
   "execution_count": 65,
   "id": "02524611-d53f-446d-be5f-0ccf73a7319f",
   "metadata": {},
   "outputs": [
    {
     "name": "stdout",
     "output_type": "stream",
     "text": [
      "matrix is:\n",
      " [[0.30160411 0.78737647 0.66264215 0.41316855]\n",
      " [0.91665456 0.76770301 0.20332207 0.19596626]\n",
      " [0.08702845 0.11385648 0.49156248 0.17200999]]\n",
      "max value from each rows:\n",
      " [0.78737647 0.91665456 0.49156248]\n"
     ]
    }
   ],
   "source": [
    "#11. Find the max in each row.\n",
    "data2= np.random.rand(3,4)\n",
    "print(\"matrix is:\\n\",data2)\n",
    "print(\"max value from each rows:\\n\",data2.max(axis = 1))"
   ]
  },
  {
   "cell_type": "code",
   "execution_count": 75,
   "id": "602273f9-b3bc-4db4-a61a-e895863c9d88",
   "metadata": {},
   "outputs": [
    {
     "name": "stdout",
     "output_type": "stream",
     "text": [
      "mean is: 4.714285714285714\n",
      "standard deviation is: 2.657296462534039\n",
      "median is: 5.0\n"
     ]
    }
   ],
   "source": [
    "#12. Compute the mean, std, and median of an array.\n",
    "data = np.array([1,2,3,9,5,6,7])\n",
    "print (\"mean is:\",np.mean(data))\n",
    "print (\"standard deviation is:\",np.std(data))\n",
    "print (\"median is:\",np.median(data))"
   ]
  },
  {
   "cell_type": "code",
   "execution_count": 81,
   "id": "64aedf1b-558e-4278-9bf4-7733159386ca",
   "metadata": {},
   "outputs": [
    {
     "data": {
      "text/plain": [
       "array([[1, 2, 3],\n",
       "       [1, 2, 3]])"
      ]
     },
     "execution_count": 81,
     "metadata": {},
     "output_type": "execute_result"
    }
   ],
   "source": [
    "#13. Stack two arrays vertically.\n",
    "arr1 = np.array([1,2,3])\n",
    "arr2 = np.array([1,2,3])\n",
    "stack_arr = np.vstack((arr1,arr2))\n",
    "stack_arr"
   ]
  },
  {
   "cell_type": "code",
   "execution_count": 83,
   "id": "0cd9d15d-ece1-46af-86e7-eb9080fb2269",
   "metadata": {},
   "outputs": [
    {
     "data": {
      "text/plain": [
       "array([1, 2, 3, 1, 2, 3])"
      ]
     },
     "execution_count": 83,
     "metadata": {},
     "output_type": "execute_result"
    }
   ],
   "source": [
    "#14. Stack two arrays horizontally.\n",
    "arr1 = np.array([1,2,3])\n",
    "arr2 = np.array([1,2,3])\n",
    "stack_arr = np.hstack((arr1,arr2))\n",
    "stack_arr"
   ]
  },
  {
   "cell_type": "code",
   "execution_count": 41,
   "id": "454d591c-fcd7-45df-8d6a-b6aaa0a2a6e9",
   "metadata": {},
   "outputs": [
    {
     "name": "stdout",
     "output_type": "stream",
     "text": [
      "Unique value:,[1 2 3 4 5 6 7 8],Counts:,[1 2 2 2 1 1 1 1]\n"
     ]
    }
   ],
   "source": [
    "#15. Find the unique values and their counts.\n",
    "val = np.array([1,2,3,3,4,5,6,2,4,7,8])\n",
    "uni_val , counts = np.unique(val,return_counts = True)\n",
    "print(f\"Unique value:,{uni_val},Counts:,{counts}\")"
   ]
  },
  {
   "cell_type": "code",
   "execution_count": 43,
   "id": "88b11031-b38f-47be-ac44-4874f59bd15d",
   "metadata": {},
   "outputs": [
    {
     "name": "stdout",
     "output_type": "stream",
     "text": [
      "Original dataframe:\n",
      "      A    B\n",
      "0  4.0  3.0\n",
      "1  6.0  7.0\n",
      "2  NaN  1.0\n",
      "3  9.0  NaN\n",
      "4  2.0  8.0\n",
      "5  NaN  NaN\n",
      "\n",
      "Modified DataFrame:\n",
      "       A     B\n",
      "0  4.00  3.00\n",
      "1  6.00  7.00\n",
      "2  5.25  1.00\n",
      "3  9.00  4.75\n",
      "4  2.00  8.00\n",
      "5  5.25  4.75\n"
     ]
    }
   ],
   "source": [
    "#16. Replace NaN with column means.\n",
    "df = pd.DataFrame({'A':[4,6,np.nan,9,2,np.nan],\n",
    "                   'B':[3,7,1,np.nan,8,np.nan]})\n",
    "data_m = df.mean()\n",
    "print(\"Original dataframe:\\n\",df)\n",
    "print(\"\\nModified DataFrame:\\n\",df.fillna(data_m))"
   ]
  },
  {
   "cell_type": "code",
   "execution_count": 49,
   "id": "d8fe12bf-cefa-424f-b96f-832b650aa7f6",
   "metadata": {},
   "outputs": [
    {
     "name": "stdout",
     "output_type": "stream",
     "text": [
      "Index of minimum value: 1\n",
      "Index of maximum value: 4\n"
     ]
    }
   ],
   "source": [
    "#17. Get index of min and max values.\n",
    "value = np.array([10,2,3,39,57,2,7])\n",
    "print(\"Index of minimum value:\",np.argmin(value))\n",
    "print(\"Index of maximum value:\",np.argmax(value))"
   ]
  },
  {
   "cell_type": "code",
   "execution_count": 53,
   "id": "90ca02ec-f941-4218-a93c-6f65d4b13aff",
   "metadata": {},
   "outputs": [
    {
     "data": {
      "text/plain": [
       "array([[[5, 8, 4],\n",
       "        [1, 9, 7],\n",
       "        [5, 7, 7],\n",
       "        [6, 2, 2]],\n",
       "\n",
       "       [[5, 9, 9],\n",
       "        [8, 0, 1],\n",
       "        [7, 0, 2],\n",
       "        [2, 7, 7]],\n",
       "\n",
       "       [[0, 4, 0],\n",
       "        [1, 9, 4],\n",
       "        [8, 3, 2],\n",
       "        [3, 2, 1]]])"
      ]
     },
     "execution_count": 53,
     "metadata": {},
     "output_type": "execute_result"
    }
   ],
   "source": [
    "#18. Create a 3D array of random integers.\n",
    "arr_3d = np.random.randint(0,10,size=(3,4,3))\n",
    "arr_3d"
   ]
  },
  {
   "cell_type": "code",
   "execution_count": 57,
   "id": "014374df-18c0-4edf-8d3b-51148397c546",
   "metadata": {},
   "outputs": [
    {
     "data": {
      "text/plain": [
       "array([17,  0,  0, 49, 53,  0])"
      ]
     },
     "execution_count": 57,
     "metadata": {},
     "output_type": "execute_result"
    }
   ],
   "source": [
    "#19. Use np.where() to replace values.\n",
    "data_s = np.array([17,26,30,49,53,62])\n",
    "data_m = np.where(data_s % 2 == 0,0,data_s)\n",
    "data_m"
   ]
  }
 ],
 "metadata": {
  "kernelspec": {
   "display_name": "Python 3 (ipykernel)",
   "language": "python",
   "name": "python3"
  },
  "language_info": {
   "codemirror_mode": {
    "name": "ipython",
    "version": 3
   },
   "file_extension": ".py",
   "mimetype": "text/x-python",
   "name": "python",
   "nbconvert_exporter": "python",
   "pygments_lexer": "ipython3",
   "version": "3.12.4"
  }
 },
 "nbformat": 4,
 "nbformat_minor": 5
}
