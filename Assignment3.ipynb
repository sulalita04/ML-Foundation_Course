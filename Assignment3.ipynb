{
 "cells": [
  {
   "cell_type": "code",
   "execution_count": 13,
   "id": "9e752fe1-d1c4-4595-9b94-2b6f4f35ef7a",
   "metadata": {},
   "outputs": [
    {
     "name": "stdout",
     "output_type": "stream",
     "text": [
      "My name is: Sulalita \n",
      " my age is: 20\n"
     ]
    }
   ],
   "source": [
    "#1. Create simple class Person with name and age as attribute\n",
    "class Person:\n",
    "    def __init__(self,name,age):\n",
    "        self.name = name\n",
    "        self.age = age\n",
    "person = Person(\"Sulalita\",20)\n",
    "print(\"My name is:\",person.name,\"\\n my age is:\",person.age)"
   ]
  },
  {
   "cell_type": "code",
   "execution_count": 11,
   "id": "c6c359ac-9211-4cc6-a724-fa852f590250",
   "metadata": {},
   "outputs": [
    {
     "name": "stdout",
     "output_type": "stream",
     "text": [
      "Hello ,my name is Sulalita and i'm 20 years old\n"
     ]
    }
   ],
   "source": [
    "#2.Add a method to the Person class that prints a greeting\n",
    "class Person:\n",
    "    def __init__(self,name,age):\n",
    "        self.name = name\n",
    "        self.age = age\n",
    "    def greet(self):\n",
    "        print(f\"Hello ,my name is {self.name} and i'm {self.age} years old\")\n",
    "person = Person(\"Sulalita\",20)\n",
    "person.greet()"
   ]
  },
  {
   "cell_type": "code",
   "execution_count": 21,
   "id": "fb15609c-95a7-4f3f-8d38-81264ffb5968",
   "metadata": {},
   "outputs": [
    {
     "name": "stdout",
     "output_type": "stream",
     "text": [
      "Car brand is: Nano \n",
      "Car name is: royal\n"
     ]
    }
   ],
   "source": [
    "#3. Create a class with class variable and instance variable.\n",
    "class Car:\n",
    "    brand = \"Nano\"\n",
    "    def __init__(self,name):\n",
    "        self.name = name\n",
    "Name = Car(\"royal\")\n",
    "print(\"Car brand is:\",Car.brand,\"\\nCar name is:\",Name.name)"
   ]
  },
  {
   "cell_type": "code",
   "execution_count": 33,
   "id": "c2c29f17-c24b-477a-b903-a9d514345a18",
   "metadata": {},
   "outputs": [
    {
     "name": "stdout",
     "output_type": "stream",
     "text": [
      "abc\n"
     ]
    }
   ],
   "source": [
    "#4. Create a private attribute in a class and access it using a method.\n",
    "class Car:\n",
    "    def __init__(self,brand,model):\n",
    "        self.brand = brand\n",
    "        self.__pvt_model = model\n",
    "    def get_model(self):\n",
    "        return self.__pvt_model \n",
    "my_car = Car(\"xyz\",\"abc\")\n",
    "print(my_car.get_model())"
   ]
  },
  {
   "cell_type": "code",
   "execution_count": 27,
   "id": "ce45f78d-7e92-4979-83c6-8065d73f8910",
   "metadata": {},
   "outputs": [
    {
     "name": "stdout",
     "output_type": "stream",
     "text": [
      "64\n"
     ]
    }
   ],
   "source": [
    "#5. Create a class with a method that returns the square of a number.\n",
    "class Calcu:\n",
    "    def square(self,num):\n",
    "        return num ** 2\n",
    "cal = Calcu()\n",
    "print(cal.square(8))"
   ]
  },
  {
   "cell_type": "code",
   "execution_count": 31,
   "id": "3ea255e2-1eca-4e47-a55d-011b1efc21b1",
   "metadata": {},
   "outputs": [
    {
     "name": "stdout",
     "output_type": "stream",
     "text": [
      "2\n",
      "3\n"
     ]
    }
   ],
   "source": [
    "#6. Create two objects of a class and demonstrate that they are independent.\n",
    "class Counter:\n",
    "    def __init__(self):\n",
    "        self.count = 0\n",
    "    def incre(self):\n",
    "        self.count += 1\n",
    "counter1 = Counter()\n",
    "counter2 = Counter()\n",
    "\n",
    "counter1.incre()\n",
    "counter1.incre()\n",
    "counter2.incre()\n",
    "counter2.incre()\n",
    "counter2.incre()\n",
    "\n",
    "print(counter1.count)\n",
    "print(counter2.count)"
   ]
  },
  {
   "cell_type": "code",
   "execution_count": 35,
   "id": "7b19fd5d-0c0d-4e56-8071-39ae899ecfe9",
   "metadata": {},
   "outputs": [
    {
     "name": "stdout",
     "output_type": "stream",
     "text": [
      "abc\n",
      "nano\n"
     ]
    }
   ],
   "source": [
    "#7. Create a class and use a method to set its attributes.\n",
    "class Car:\n",
    "    def __init__(self,brand,model):\n",
    "        self.brand = brand\n",
    "        self.__pvt_model = model\n",
    "    def get_model(self):\n",
    "        return self.__pvt_model \n",
    "    def set_model(self,new_val):\n",
    "        self.__pvt_model = new_val\n",
    "my_car = Car(\"xyz\",\"abc\")\n",
    "print(my_car.get_model())\n",
    "my_car.set_model(\"nano\")\n",
    "print(my_car.get_model())"
   ]
  },
  {
   "cell_type": "code",
   "execution_count": 37,
   "id": "09aa5106-6dc7-4651-aa52-bdbad61e337c",
   "metadata": {},
   "outputs": [
    {
     "name": "stdout",
     "output_type": "stream",
     "text": [
      "True\n",
      "True\n",
      "False\n",
      "True\n"
     ]
    }
   ],
   "source": [
    "#8. Demonstrate use of isinstance() with a class.\n",
    "class Person:\n",
    "    pass\n",
    "class Employee(Person):\n",
    "    pass\n",
    "person = Person()\n",
    "employee = Employee()\n",
    "\n",
    "print(isinstance(person,Person))\n",
    "print(isinstance(employee,Employee))\n",
    "print(isinstance(person,Employee))\n",
    "print(isinstance(employee,Person))"
   ]
  },
  {
   "cell_type": "code",
   "execution_count": 39,
   "id": "887b641f-1d02-4f77-95f5-e82aa3b1d498",
   "metadata": {},
   "outputs": [
    {
     "name": "stdout",
     "output_type": "stream",
     "text": [
      "The cat meow\n"
     ]
    }
   ],
   "source": [
    "#9. Demonstrate single inheritance .\n",
    "class Animal:\n",
    "    def sound(self):\n",
    "        print(\"The animal makes a sound!\")\n",
    "class Cat(Animal):\n",
    "    def sound(self):\n",
    "        print(\"The cat meow\")\n",
    "cat = Cat()\n",
    "cat.sound()"
   ]
  },
  {
   "cell_type": "code",
   "execution_count": 3,
   "id": "c098b582-390a-4186-90cf-7d22c635b9f6",
   "metadata": {},
   "outputs": [
    {
     "name": "stdout",
     "output_type": "stream",
     "text": [
      "The Plant can cook by their own.\n",
      "Fruits have different colors.\n",
      "Apple taste is sweet.\n"
     ]
    }
   ],
   "source": [
    "#10. Create a base class and derive two child classes with diifferent methods(multi-level inheritance)\n",
    "class Plant:\n",
    "    def cook(self):\n",
    "        print(\"The Plant can cook by their own.\")\n",
    "class Fruit(Plant):\n",
    "    def color(self):\n",
    "        print(\"Fruits have different colors.\")\n",
    "class Apple(Fruit):\n",
    "    def taste(self):\n",
    "        print(\"Apple taste is sweet.\")\n",
    "apple = Apple()\n",
    "apple.cook()\n",
    "apple.color()\n",
    "apple.taste()"
   ]
  },
  {
   "cell_type": "code",
   "execution_count": 9,
   "id": "1d4512bb-d16c-46c2-a027-73cf490f56ef",
   "metadata": {},
   "outputs": [
    {
     "name": "stdout",
     "output_type": "stream",
     "text": [
      "Area of the circle is 153.86\n",
      "Area of the rectangle is 45\n"
     ]
    }
   ],
   "source": [
    "#11. Demonstrate method overriding in inheitance.\n",
    "class Shape:\n",
    "     def area(self):\n",
    "         print(\"Calculating area...\")\n",
    "class Circle(Shape):\n",
    "    def __init__(self,r):\n",
    "        self.r = r\n",
    "    def area(self):\n",
    "         print(f\"Area of the circle is {3.14 * self.r ** 2}\")\n",
    "class Rectangle(Shape):\n",
    "    def __init__(self,l,b):\n",
    "        self.l = l\n",
    "        self.b = b\n",
    "    def area(self):\n",
    "         print(f\"Area of the rectangle is {self.l * self.b}\")\n",
    "cr = Circle(7)\n",
    "rec = Rectangle(5,9)\n",
    "\n",
    "cr.area()\n",
    "rec.area()"
   ]
  },
  {
   "cell_type": "code",
   "execution_count": 1,
   "id": "a4f65f66-f7a4-4a58-9e72-46448791c846",
   "metadata": {},
   "outputs": [
    {
     "name": "stdout",
     "output_type": "stream",
     "text": [
      "Fair\n",
      "6.5 Feet\n",
      "58 kg\n",
      "Color:Fair   Height:6.5 Feet\n"
     ]
    }
   ],
   "source": [
    "#12. Use `super()` to call a parent class method.\n",
    "class Human:\n",
    "    def __init__(self,color,height):\n",
    "        self.color=color\n",
    "        self.height=height\n",
    "    def appearance(self):\n",
    "        print(f\"Color:{self.color}   Height:{self.height}\")\n",
    "class Man(Human):\n",
    "    def __init__(self,color,height,weight):\n",
    "        self.weight=weight\n",
    "        super().__init__(color,height)\n",
    "man1=Man(\"Fair\",\"6.5 Feet\",\"58 kg\")\n",
    "print(man1.color)\n",
    "print(man1.height)\n",
    "print(man1.weight)\n",
    "man1.appearance()"
   ]
  },
  {
   "cell_type": "code",
   "execution_count": 3,
   "id": "cf1cf188-6674-430d-a9bd-ccec62222004",
   "metadata": {},
   "outputs": [
    {
     "name": "stdout",
     "output_type": "stream",
     "text": [
      "Circle radius: 5\n",
      "Circle area: 78.5\n"
     ]
    }
   ],
   "source": [
    "#13. Create an abstract base class using `abc` module\n",
    "from abc import ABC, abstractmethod\n",
    "\n",
    "class Shape(ABC): #abstract class Shape\n",
    "    def area(self): #abstract method area()\n",
    "        pass\n",
    "class Circle(Shape): #concrete class Circle\n",
    "    def __init__(self, radius):\n",
    "        self.radius = radius\n",
    "    def area(self): #concrete method area()\n",
    "        return 3.14 * self.radius * self.radius\n",
    "circle = Circle(5)\n",
    "print(f\"Circle radius: {circle.radius}\")\n",
    "print(f\"Circle area: {circle.area()}\")"
   ]
  },
  {
   "cell_type": "code",
   "execution_count": 5,
   "id": "30f6cf84-51a6-4f78-83d6-ac19d9dd53d4",
   "metadata": {},
   "outputs": [
    {
     "name": "stdout",
     "output_type": "stream",
     "text": [
      "45  m\n",
      "160  kg\n",
      "BMI: 0.07901234567901234\n"
     ]
    }
   ],
   "source": [
    "#14. Demonstrate multiple inheritance in Python.\n",
    "class Man:\n",
    "    def __init__(self,height_m):\n",
    "        self.height_m=height_m\n",
    "class Woman:\n",
    "    def __init__(self,weight_kg):\n",
    "        self.weight_kg=weight_kg\n",
    "class Child(Man,Woman):\n",
    "     def __init__(self,height_m,weight_kg):\n",
    "         Man.__init__(self,height_m)\n",
    "         Woman.__init__(self,weight_kg)\n",
    "     def cal_bmi(self):\n",
    "        return (self.weight_kg / self.height_m**2)\n",
    "baby=Child(45,160)\n",
    "print(baby.height_m,\" m\")\n",
    "print(baby.weight_kg,\" kg\")\n",
    "bmi=baby.cal_bmi()\n",
    "print(\"BMI:\",bmi)"
   ]
  },
  {
   "cell_type": "code",
   "execution_count": 7,
   "id": "a3c8388c-86db-4625-a000-4227b21a4900",
   "metadata": {},
   "outputs": [
    {
     "name": "stdout",
     "output_type": "stream",
     "text": [
      "Audi A4\n",
      "A2\n"
     ]
    }
   ],
   "source": [
    "#15. Demonstrate encapsulation using getter and setter.\n",
    "class Car:\n",
    "    def __init__(self,brand,model,year):\n",
    "        self.brand=brand\n",
    "        self._model=model\n",
    "        self.year=year\n",
    "    def get_model(self): #getter \n",
    "        return self._model\n",
    "    def set_model(self,new_val): #setter\n",
    "        self._model=new_val\n",
    "my_car=Car(\"Audi\",\"A4\",\"2024\")\n",
    "print(my_car.brand, my_car.get_model())\n",
    "my_car.set_model(\"A2\")\n",
    "print(my_car.get_model())"
   ]
  },
  {
   "cell_type": "code",
   "execution_count": 9,
   "id": "e8b66aec-39e2-48c2-b53c-dcdb76633231",
   "metadata": {},
   "outputs": [
    {
     "name": "stdout",
     "output_type": "stream",
     "text": [
      "Audi A4 engine started.\n"
     ]
    }
   ],
   "source": [
    "#16. Write a program to demonstrate polymorphism with a common method.\n",
    "class Car:\n",
    "    total_car_obj=0\n",
    "    def __init__(self,brand,model):\n",
    "        self.brand=brand\n",
    "        self._model=model\n",
    "        self.is_running=False #is_running : Local variable\n",
    "    def start_engine(self): #start_engine() Method overriding in parent class\n",
    "        self.is_running=True \n",
    "        print(f\"{self.brand} engine started.\")\n",
    "class ElectricCar(Car):\n",
    "    def __init__(self,brand,model):\n",
    "        super().__init__(brand,model)\n",
    "    def start_engine(self): #start_engine() Method overriding in child class\n",
    "        self.is_running=True \n",
    "        print(f\"{self.brand} {self._model} engine started.\")\n",
    "my_car=ElectricCar(\"Audi\",\"A4\")\n",
    "my_car.start_engine()"
   ]
  },
  {
   "cell_type": "code",
   "execution_count": 11,
   "id": "be4a1063-5f18-482e-93b3-35fc6fd60223",
   "metadata": {},
   "outputs": [
    {
     "name": "stdout",
     "output_type": "stream",
     "text": [
      "Total employee created: 3\n"
     ]
    }
   ],
   "source": [
    "#17. Create a class `Employee` with a method to display the number of employees created.\n",
    "class Employee:\n",
    "    total_emp=0\n",
    "    def __init__(self,name):\n",
    "        self.name=name\n",
    "        Employee.total_emp+=1\n",
    "emp1=Employee(\"A\")\n",
    "emp2=Employee(\"B\")\n",
    "emp3=Employee(\"C\")\n",
    "print(\"Total employee created:\",Employee.total_emp)"
   ]
  },
  {
   "cell_type": "code",
   "execution_count": 13,
   "id": "8cdd91a4-2da5-46e4-a1c8-cce6733a5635",
   "metadata": {},
   "outputs": [
    {
     "name": "stdout",
     "output_type": "stream",
     "text": [
      "Hello\n",
      "Hello World\n"
     ]
    }
   ],
   "source": [
    "#18. Demonstrate constructor overloading using default arguments.\n",
    "class Greeting:\n",
    "    def __init__(self,greet=None):\n",
    "        if(greet==None):\n",
    "            print(\"Hello\")\n",
    "        else:\n",
    "            print(\"Hello\",greet)\n",
    "obj1=Greeting() \n",
    "obj1=Greeting(\"World\") #default constructor"
   ]
  },
  {
   "cell_type": "code",
   "execution_count": 15,
   "id": "1c9c7a6e-bdb1-4596-8b98-aee5655cf420",
   "metadata": {},
   "outputs": [
    {
     "name": "stdout",
     "output_type": "stream",
     "text": [
      "Account Number: 123456789, Account Holder: Simran, Balance: ₹1000\n",
      "Deposited amount ₹500. New balance: ₹1500\n",
      "Withdrawn amount ₹200. New balance: ₹1300\n",
      "Insufficient funds.\n",
      "Account Number: 123456789, Account Holder: Simran, Balance: ₹1300\n"
     ]
    }
   ],
   "source": [
    "#19. Implement a bank account system with deposit and withdrawal methods.\n",
    "class BankAccount:\n",
    "    def __init__(self, acc_no, acc_holder_name, balance=0):\n",
    "        self.acc_no=acc_no\n",
    "        self.acc_holder_name=acc_holder_name\n",
    "        self.balance=balance\n",
    "        \n",
    "    def deposit(self, amount):\n",
    "        if(amount>0):\n",
    "            self.balance+=amount\n",
    "            print(f\"Deposited amount ₹{amount}. New balance: ₹{self.balance}\")\n",
    "        else:\n",
    "            print(\"Invalid deposit amount.\")\n",
    "            \n",
    "    def withdraw(self,amount):\n",
    "        if(0<amount<=self.balance):\n",
    "            self.balance-=amount\n",
    "            print(f\"Withdrawn amount ₹{amount}. New balance: ₹{self.balance}\")\n",
    "        elif(amount>self.balance):\n",
    "             print(\"Insufficient funds.\")\n",
    "        else:\n",
    "            print(\"Invalid withdrawal amount.\")\n",
    "\n",
    "    def get_balance(self):\n",
    "        return self.balance\n",
    "\n",
    "    def __str__(self):\n",
    "        return (f\"Account Number: {self.acc_no}, Account Holder: {self.acc_holder_name}, Balance: ₹{self.balance}\")\n",
    "\n",
    "acc1=BankAccount(\"123456789\", \"Simran\", 1000)\n",
    "print(acc1)\n",
    "\n",
    "acc1.deposit(500)\n",
    "acc1.withdraw(200)\n",
    "acc1.withdraw(1500)\n",
    "\n",
    "print(acc1)"
   ]
  },
  {
   "cell_type": "code",
   "execution_count": 17,
   "id": "f29e2e1b-93f8-4a68-8f64-c6fcfab1e450",
   "metadata": {},
   "outputs": [
    {
     "name": "stdout",
     "output_type": "stream",
     "text": [
      "Length:5  Width: 10\n",
      "Area: 50\n",
      "Perimeter: 30\n"
     ]
    }
   ],
   "source": [
    "#20. Create a class `Rectangle` with method to calculate area and perimeter.\n",
    "class Rectangle:\n",
    "    def __init__(self, length, width):\n",
    "        self.length = length\n",
    "        self.width = width\n",
    "\n",
    "    def calc_area(self):\n",
    "        return self.length * self.width\n",
    "\n",
    "    def calc_perimeter(self):\n",
    "        return 2 * (self.length + self.width)\n",
    "\n",
    "obj1 = Rectangle(5, 10)\n",
    "print(f\"Length:{obj1.length}  Width: {obj1.width}\")\n",
    "print(f\"Area: {obj1.calc_area()}\")\n",
    "print(f\"Perimeter: {obj1.calc_perimeter()}\")"
   ]
  }
 ],
 "metadata": {
  "kernelspec": {
   "display_name": "Python 3 (ipykernel)",
   "language": "python",
   "name": "python3"
  },
  "language_info": {
   "codemirror_mode": {
    "name": "ipython",
    "version": 3
   },
   "file_extension": ".py",
   "mimetype": "text/x-python",
   "name": "python",
   "nbconvert_exporter": "python",
   "pygments_lexer": "ipython3",
   "version": "3.12.4"
  }
 },
 "nbformat": 4,
 "nbformat_minor": 5
}
